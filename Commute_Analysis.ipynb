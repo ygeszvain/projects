{
  "nbformat": 4,
  "nbformat_minor": 0,
  "metadata": {
    "colab": {
      "name": "Commute Analysis.ipynb",
      "version": "0.3.2",
      "provenance": [],
      "collapsed_sections": [],
      "include_colab_link": true
    },
    "kernelspec": {
      "name": "python3",
      "display_name": "Python 3"
    }
  },
  "cells": [
    {
      "cell_type": "markdown",
      "metadata": {
        "id": "view-in-github",
        "colab_type": "text"
      },
      "source": [
        "<a href=\"https://colab.research.google.com/github/ygeszvain/projects/blob/master/Commute_Analysis.ipynb\" target=\"_parent\"><img src=\"https://colab.research.google.com/assets/colab-badge.svg\" alt=\"Open In Colab\"/></a>"
      ]
    },
    {
      "cell_type": "code",
      "metadata": {
        "id": "lWZTctCdHSBL",
        "colab_type": "code",
        "colab": {
          "base_uri": "https://localhost:8080/",
          "height": 667
        },
        "outputId": "08db49bf-c9cd-4a63-b83b-03bfbd13e6c7"
      },
      "source": [
        "!pip install fbprophet\n",
        "!pip install plotly"
      ],
      "execution_count": 355,
      "outputs": [
        {
          "output_type": "stream",
          "text": [
            "Requirement already satisfied: fbprophet in /usr/local/lib/python3.6/dist-packages (0.4.post2)\n",
            "Requirement already satisfied: Cython>=0.22 in /usr/local/lib/python3.6/dist-packages (from fbprophet) (0.29.7)\n",
            "Requirement already satisfied: pystan>=2.14 in /usr/local/lib/python3.6/dist-packages (from fbprophet) (2.19.0.0)\n",
            "Requirement already satisfied: numpy>=1.10.0 in /usr/local/lib/python3.6/dist-packages (from fbprophet) (1.16.3)\n",
            "Requirement already satisfied: pandas>=0.20.1 in /usr/local/lib/python3.6/dist-packages (from fbprophet) (0.24.2)\n",
            "Requirement already satisfied: matplotlib>=2.0.0 in /usr/local/lib/python3.6/dist-packages (from fbprophet) (3.0.3)\n",
            "Requirement already satisfied: lunardate>=0.1.5 in /usr/local/lib/python3.6/dist-packages (from fbprophet) (0.2.0)\n",
            "Requirement already satisfied: convertdate>=2.1.2 in /usr/local/lib/python3.6/dist-packages (from fbprophet) (2.1.3)\n",
            "Requirement already satisfied: holidays>=0.9.5 in /usr/local/lib/python3.6/dist-packages (from fbprophet) (0.9.10)\n",
            "Requirement already satisfied: setuptools-git>=1.2 in /usr/local/lib/python3.6/dist-packages (from fbprophet) (1.2)\n",
            "Requirement already satisfied: python-dateutil>=2.5.0 in /usr/local/lib/python3.6/dist-packages (from pandas>=0.20.1->fbprophet) (2.5.3)\n",
            "Requirement already satisfied: pytz>=2011k in /usr/local/lib/python3.6/dist-packages (from pandas>=0.20.1->fbprophet) (2018.9)\n",
            "Requirement already satisfied: cycler>=0.10 in /usr/local/lib/python3.6/dist-packages (from matplotlib>=2.0.0->fbprophet) (0.10.0)\n",
            "Requirement already satisfied: kiwisolver>=1.0.1 in /usr/local/lib/python3.6/dist-packages (from matplotlib>=2.0.0->fbprophet) (1.1.0)\n",
            "Requirement already satisfied: pyparsing!=2.0.4,!=2.1.2,!=2.1.6,>=2.0.1 in /usr/local/lib/python3.6/dist-packages (from matplotlib>=2.0.0->fbprophet) (2.4.0)\n",
            "Requirement already satisfied: ephem<3.8,>=3.7.5.3 in /usr/local/lib/python3.6/dist-packages (from convertdate>=2.1.2->fbprophet) (3.7.6.0)\n",
            "Requirement already satisfied: six in /usr/local/lib/python3.6/dist-packages (from holidays>=0.9.5->fbprophet) (1.12.0)\n",
            "Requirement already satisfied: setuptools in /usr/local/lib/python3.6/dist-packages (from kiwisolver>=1.0.1->matplotlib>=2.0.0->fbprophet) (41.0.1)\n",
            "Requirement already satisfied: plotly in /usr/local/lib/python3.6/dist-packages (3.6.1)\n",
            "Requirement already satisfied: requests in /usr/local/lib/python3.6/dist-packages (from plotly) (2.21.0)\n",
            "Requirement already satisfied: nbformat>=4.2 in /usr/local/lib/python3.6/dist-packages (from plotly) (4.4.0)\n",
            "Requirement already satisfied: retrying>=1.3.3 in /usr/local/lib/python3.6/dist-packages (from plotly) (1.3.3)\n",
            "Requirement already satisfied: pytz in /usr/local/lib/python3.6/dist-packages (from plotly) (2018.9)\n",
            "Requirement already satisfied: decorator>=4.0.6 in /usr/local/lib/python3.6/dist-packages (from plotly) (4.4.0)\n",
            "Requirement already satisfied: six in /usr/local/lib/python3.6/dist-packages (from plotly) (1.12.0)\n",
            "Requirement already satisfied: urllib3<1.25,>=1.21.1 in /usr/local/lib/python3.6/dist-packages (from requests->plotly) (1.24.2)\n",
            "Requirement already satisfied: certifi>=2017.4.17 in /usr/local/lib/python3.6/dist-packages (from requests->plotly) (2019.3.9)\n",
            "Requirement already satisfied: idna<2.9,>=2.5 in /usr/local/lib/python3.6/dist-packages (from requests->plotly) (2.8)\n",
            "Requirement already satisfied: chardet<3.1.0,>=3.0.2 in /usr/local/lib/python3.6/dist-packages (from requests->plotly) (3.0.4)\n",
            "Requirement already satisfied: traitlets>=4.1 in /usr/local/lib/python3.6/dist-packages (from nbformat>=4.2->plotly) (4.3.2)\n",
            "Requirement already satisfied: ipython-genutils in /usr/local/lib/python3.6/dist-packages (from nbformat>=4.2->plotly) (0.2.0)\n",
            "Requirement already satisfied: jupyter-core in /usr/local/lib/python3.6/dist-packages (from nbformat>=4.2->plotly) (4.4.0)\n",
            "Requirement already satisfied: jsonschema!=2.5.0,>=2.4 in /usr/local/lib/python3.6/dist-packages (from nbformat>=4.2->plotly) (2.6.0)\n"
          ],
          "name": "stdout"
        }
      ]
    },
    {
      "cell_type": "code",
      "metadata": {
        "id": "s0Z2KagmHpjS",
        "colab_type": "code",
        "colab": {}
      },
      "source": [
        "import timeit\n",
        "%matplotlib inline\n",
        "import pandas as pd\n",
        "from fbprophet import Prophet\n",
        "\n",
        "import matplotlib.pyplot as plt\n",
        "plt.style.use('fivethirtyeight')\n",
        "\n",
        "import plotly\n",
        "plotly.tools.set_credentials_file(username='ygeszvain', api_key='OyNA6ynxiLYhCh4JiuQF')\n",
        "\n",
        "# import packages for analysis and modeling\n",
        "import pandas as pd  # data frame operations\n",
        "import numpy as np  # arrays and math functions\n",
        "from scipy.stats import uniform  # for training-and-test split\n",
        "import statsmodels.api as sm  # statistical models (including regression)\n",
        "import statsmodels.formula.api as smf  # R-like model specification\n",
        "import matplotlib.pyplot as plt  # 2D plotting\n",
        "import seaborn as sns  # PROVIDES TRELLIS AND SMALL MULTIPLE PLOTTING\n",
        "#from pyvttbl import DataFrame # Anova\n",
        "from scipy import stats\n",
        "from statsmodels.formula.api import ols\n",
        "import scipy.stats as stats\n",
        "from sklearn import linear_model\n",
        "from shapely.geometry import Point, Polygon\n",
        "from sklearn.model_selection import train_test_split\n",
        "from sklearn.linear_model import LinearRegression\n",
        "from sklearn.metrics import r2_score\n",
        "from sklearn.preprocessing import LabelEncoder\n",
        "%matplotlib inline"
      ],
      "execution_count": 0,
      "outputs": []
    },
    {
      "cell_type": "code",
      "metadata": {
        "id": "9oztdbnAH68h",
        "colab_type": "code",
        "colab": {
          "base_uri": "https://localhost:8080/",
          "height": 669
        },
        "outputId": "818da138-b6e2-4a05-d78d-3a5f2980d65d"
      },
      "source": [
        "commute = pd.read_csv('commute2015.csv', sep=',', error_bad_lines=False, encoding = \"ISO-8859-1\")\n",
        "commute.columns = ['state_name','country_name','commute_counts','margin_of_error']\n",
        "commute.head(20)"
      ],
      "execution_count": 357,
      "outputs": [
        {
          "output_type": "execute_result",
          "data": {
            "text/html": [
              "<div>\n",
              "<style scoped>\n",
              "    .dataframe tbody tr th:only-of-type {\n",
              "        vertical-align: middle;\n",
              "    }\n",
              "\n",
              "    .dataframe tbody tr th {\n",
              "        vertical-align: top;\n",
              "    }\n",
              "\n",
              "    .dataframe thead th {\n",
              "        text-align: right;\n",
              "    }\n",
              "</style>\n",
              "<table border=\"1\" class=\"dataframe\">\n",
              "  <thead>\n",
              "    <tr style=\"text-align: right;\">\n",
              "      <th></th>\n",
              "      <th>state_name</th>\n",
              "      <th>country_name</th>\n",
              "      <th>commute_counts</th>\n",
              "      <th>margin_of_error</th>\n",
              "    </tr>\n",
              "  </thead>\n",
              "  <tbody>\n",
              "    <tr>\n",
              "      <th>0</th>\n",
              "      <td>Alabama</td>\n",
              "      <td>Autauga County</td>\n",
              "      <td>8828</td>\n",
              "      <td>752</td>\n",
              "    </tr>\n",
              "    <tr>\n",
              "      <th>1</th>\n",
              "      <td>Alabama</td>\n",
              "      <td>Autauga County</td>\n",
              "      <td>6</td>\n",
              "      <td>10</td>\n",
              "    </tr>\n",
              "    <tr>\n",
              "      <th>2</th>\n",
              "      <td>Alabama</td>\n",
              "      <td>Autauga County</td>\n",
              "      <td>504</td>\n",
              "      <td>228</td>\n",
              "    </tr>\n",
              "    <tr>\n",
              "      <th>3</th>\n",
              "      <td>Alabama</td>\n",
              "      <td>Autauga County</td>\n",
              "      <td>27</td>\n",
              "      <td>44</td>\n",
              "    </tr>\n",
              "    <tr>\n",
              "      <th>4</th>\n",
              "      <td>Alabama</td>\n",
              "      <td>Autauga County</td>\n",
              "      <td>296</td>\n",
              "      <td>130</td>\n",
              "    </tr>\n",
              "    <tr>\n",
              "      <th>5</th>\n",
              "      <td>Alabama</td>\n",
              "      <td>Autauga County</td>\n",
              "      <td>2186</td>\n",
              "      <td>486</td>\n",
              "    </tr>\n",
              "    <tr>\n",
              "      <th>6</th>\n",
              "      <td>Alabama</td>\n",
              "      <td>Autauga County</td>\n",
              "      <td>14</td>\n",
              "      <td>23</td>\n",
              "    </tr>\n",
              "    <tr>\n",
              "      <th>7</th>\n",
              "      <td>Alabama</td>\n",
              "      <td>Autauga County</td>\n",
              "      <td>271</td>\n",
              "      <td>142</td>\n",
              "    </tr>\n",
              "    <tr>\n",
              "      <th>8</th>\n",
              "      <td>Alabama</td>\n",
              "      <td>Autauga County</td>\n",
              "      <td>8</td>\n",
              "      <td>16</td>\n",
              "    </tr>\n",
              "    <tr>\n",
              "      <th>9</th>\n",
              "      <td>Alabama</td>\n",
              "      <td>Autauga County</td>\n",
              "      <td>79</td>\n",
              "      <td>108</td>\n",
              "    </tr>\n",
              "    <tr>\n",
              "      <th>10</th>\n",
              "      <td>Alabama</td>\n",
              "      <td>Autauga County</td>\n",
              "      <td>97</td>\n",
              "      <td>68</td>\n",
              "    </tr>\n",
              "    <tr>\n",
              "      <th>11</th>\n",
              "      <td>Alabama</td>\n",
              "      <td>Autauga County</td>\n",
              "      <td>31</td>\n",
              "      <td>52</td>\n",
              "    </tr>\n",
              "    <tr>\n",
              "      <th>12</th>\n",
              "      <td>Alabama</td>\n",
              "      <td>Autauga County</td>\n",
              "      <td>17</td>\n",
              "      <td>28</td>\n",
              "    </tr>\n",
              "    <tr>\n",
              "      <th>13</th>\n",
              "      <td>Alabama</td>\n",
              "      <td>Autauga County</td>\n",
              "      <td>49</td>\n",
              "      <td>71</td>\n",
              "    </tr>\n",
              "    <tr>\n",
              "      <th>14</th>\n",
              "      <td>Alabama</td>\n",
              "      <td>Autauga County</td>\n",
              "      <td>11306</td>\n",
              "      <td>843</td>\n",
              "    </tr>\n",
              "    <tr>\n",
              "      <th>15</th>\n",
              "      <td>Alabama</td>\n",
              "      <td>Autauga County</td>\n",
              "      <td>8</td>\n",
              "      <td>12</td>\n",
              "    </tr>\n",
              "    <tr>\n",
              "      <th>16</th>\n",
              "      <td>Alabama</td>\n",
              "      <td>Autauga County</td>\n",
              "      <td>96</td>\n",
              "      <td>51</td>\n",
              "    </tr>\n",
              "    <tr>\n",
              "      <th>17</th>\n",
              "      <td>Alabama</td>\n",
              "      <td>Autauga County</td>\n",
              "      <td>7</td>\n",
              "      <td>11</td>\n",
              "    </tr>\n",
              "    <tr>\n",
              "      <th>18</th>\n",
              "      <td>Alabama</td>\n",
              "      <td>Autauga County</td>\n",
              "      <td>20</td>\n",
              "      <td>33</td>\n",
              "    </tr>\n",
              "    <tr>\n",
              "      <th>19</th>\n",
              "      <td>Alabama</td>\n",
              "      <td>Autauga County</td>\n",
              "      <td>10</td>\n",
              "      <td>14</td>\n",
              "    </tr>\n",
              "  </tbody>\n",
              "</table>\n",
              "</div>"
            ],
            "text/plain": [
              "   state_name    country_name  commute_counts  margin_of_error\n",
              "0     Alabama  Autauga County            8828              752\n",
              "1     Alabama  Autauga County               6               10\n",
              "2     Alabama  Autauga County             504              228\n",
              "3     Alabama  Autauga County              27               44\n",
              "4     Alabama  Autauga County             296              130\n",
              "5     Alabama  Autauga County            2186              486\n",
              "6     Alabama  Autauga County              14               23\n",
              "7     Alabama  Autauga County             271              142\n",
              "8     Alabama  Autauga County               8               16\n",
              "9     Alabama  Autauga County              79              108\n",
              "10    Alabama  Autauga County              97               68\n",
              "11    Alabama  Autauga County              31               52\n",
              "12    Alabama  Autauga County              17               28\n",
              "13    Alabama  Autauga County              49               71\n",
              "14    Alabama  Autauga County           11306              843\n",
              "15    Alabama  Autauga County               8               12\n",
              "16    Alabama  Autauga County              96               51\n",
              "17    Alabama  Autauga County               7               11\n",
              "18    Alabama  Autauga County              20               33\n",
              "19    Alabama  Autauga County              10               14"
            ]
          },
          "metadata": {
            "tags": []
          },
          "execution_count": 357
        }
      ]
    },
    {
      "cell_type": "code",
      "metadata": {
        "id": "G0SCEltnJWX1",
        "colab_type": "code",
        "colab": {
          "base_uri": "https://localhost:8080/",
          "height": 102
        },
        "outputId": "d9525ffa-d270-492f-86f5-52db639cd693"
      },
      "source": [
        "# review null values in commute\n",
        "\n",
        "commute.apply(lambda x: sum(x.isnull()),axis=0)"
      ],
      "execution_count": 358,
      "outputs": [
        {
          "output_type": "execute_result",
          "data": {
            "text/plain": [
              "state_name         0\n",
              "country_name       0\n",
              "commute_counts     0\n",
              "margin_of_error    0\n",
              "dtype: int64"
            ]
          },
          "metadata": {
            "tags": []
          },
          "execution_count": 358
        }
      ]
    },
    {
      "cell_type": "code",
      "metadata": {
        "id": "rfLodDvPJaJi",
        "colab_type": "code",
        "colab": {
          "base_uri": "https://localhost:8080/",
          "height": 34
        },
        "outputId": "51f407ba-8d89-4dce-8e4a-672c4a44ce5a"
      },
      "source": [
        "commute.shape"
      ],
      "execution_count": 359,
      "outputs": [
        {
          "output_type": "execute_result",
          "data": {
            "text/plain": [
              "(139433, 4)"
            ]
          },
          "metadata": {
            "tags": []
          },
          "execution_count": 359
        }
      ]
    },
    {
      "cell_type": "code",
      "metadata": {
        "id": "BxRrmEUyJdBl",
        "colab_type": "code",
        "colab": {
          "base_uri": "https://localhost:8080/",
          "height": 102
        },
        "outputId": "dba33031-b620-41cb-f511-1ab4f9e4c83e"
      },
      "source": [
        "commute.dtypes"
      ],
      "execution_count": 360,
      "outputs": [
        {
          "output_type": "execute_result",
          "data": {
            "text/plain": [
              "state_name         object\n",
              "country_name       object\n",
              "commute_counts      int64\n",
              "margin_of_error     int64\n",
              "dtype: object"
            ]
          },
          "metadata": {
            "tags": []
          },
          "execution_count": 360
        }
      ]
    },
    {
      "cell_type": "code",
      "metadata": {
        "id": "tMdkHEGNJmko",
        "colab_type": "code",
        "colab": {
          "base_uri": "https://localhost:8080/",
          "height": 935
        },
        "outputId": "7aced952-e793-40e4-d464-c703b0b758db"
      },
      "source": [
        "commute =df.groupby(['state_name'])['commute_counts'].sum()\n",
        "commute.reset_index"
      ],
      "execution_count": 361,
      "outputs": [
        {
          "output_type": "execute_result",
          "data": {
            "text/plain": [
              "<bound method Series.reset_index of state_name\n",
              "Alabama                  1995472\n",
              "Alaska                    356987\n",
              "Arizona                  2777754\n",
              "Arkansas                 1236999\n",
              "California              16869052\n",
              "Colorado                 2606591\n",
              "Connecticut              1748352\n",
              "Delaware                  427787\n",
              "District of Columbia      335224\n",
              "Florida                  8432513\n",
              "Georgia                  4341894\n",
              "Hawaii                    678279\n",
              "Idaho                     704276\n",
              "Illinois                 5983836\n",
              "Indiana                  2986176\n",
              "Iowa                     1546601\n",
              "Kansas                   1393853\n",
              "Kentucky                 1864524\n",
              "Louisiana                1986355\n",
              "Maine                     635475\n",
              "Maryland                 2942352\n",
              "Massachusetts            3346749\n",
              "Michigan                 4279616\n",
              "Minnesota                2776528\n",
              "Mississippi              1189806\n",
              "Missouri                 2775023\n",
              "Montana                   478238\n",
              "Nebraska                  956034\n",
              "Nevada                   1251879\n",
              "New Hampshire             682019\n",
              "New Jersey               4190538\n",
              "New Mexico                871117\n",
              "New York                 9064986\n",
              "North Carolina           4361591\n",
              "North Dakota              385843\n",
              "Ohio                     5263292\n",
              "Oklahoma                 1705849\n",
              "Oregon                   1751088\n",
              "Pennsylvania             5879935\n",
              "Puerto Rico              1026779\n",
              "Rhode Island              507116\n",
              "South Carolina           2062681\n",
              "South Dakota              425712\n",
              "Tennessee                2843629\n",
              "Texas                   11966019\n",
              "Utah                     1319944\n",
              "Vermont                   318435\n",
              "Virginia                 4020679\n",
              "Washington               3236166\n",
              "West Virginia             735009\n",
              "Wisconsin                2835551\n",
              "Wyoming                   289747\n",
              "Name: commute_counts, dtype: int64>"
            ]
          },
          "metadata": {
            "tags": []
          },
          "execution_count": 361
        }
      ]
    },
    {
      "cell_type": "code",
      "metadata": {
        "id": "bw3PDuBgKXbQ",
        "colab_type": "code",
        "colab": {}
      },
      "source": [
        "commute = pd.DataFrame(commute)"
      ],
      "execution_count": 0,
      "outputs": []
    },
    {
      "cell_type": "code",
      "metadata": {
        "id": "g6R_bWHdK3qx",
        "colab_type": "code",
        "colab": {}
      },
      "source": [
        "commute.reset_index(inplace = True) "
      ],
      "execution_count": 0,
      "outputs": []
    },
    {
      "cell_type": "code",
      "metadata": {
        "id": "BTTvLN2eMUnG",
        "colab_type": "code",
        "colab": {
          "base_uri": "https://localhost:8080/",
          "height": 1661
        },
        "outputId": "80a8b5ee-9c57-4d50-8dbe-e5a0a048dcd0"
      },
      "source": [
        "commute"
      ],
      "execution_count": 364,
      "outputs": [
        {
          "output_type": "execute_result",
          "data": {
            "text/html": [
              "<div>\n",
              "<style scoped>\n",
              "    .dataframe tbody tr th:only-of-type {\n",
              "        vertical-align: middle;\n",
              "    }\n",
              "\n",
              "    .dataframe tbody tr th {\n",
              "        vertical-align: top;\n",
              "    }\n",
              "\n",
              "    .dataframe thead th {\n",
              "        text-align: right;\n",
              "    }\n",
              "</style>\n",
              "<table border=\"1\" class=\"dataframe\">\n",
              "  <thead>\n",
              "    <tr style=\"text-align: right;\">\n",
              "      <th></th>\n",
              "      <th>state_name</th>\n",
              "      <th>commute_counts</th>\n",
              "    </tr>\n",
              "  </thead>\n",
              "  <tbody>\n",
              "    <tr>\n",
              "      <th>0</th>\n",
              "      <td>Alabama</td>\n",
              "      <td>1995472</td>\n",
              "    </tr>\n",
              "    <tr>\n",
              "      <th>1</th>\n",
              "      <td>Alaska</td>\n",
              "      <td>356987</td>\n",
              "    </tr>\n",
              "    <tr>\n",
              "      <th>2</th>\n",
              "      <td>Arizona</td>\n",
              "      <td>2777754</td>\n",
              "    </tr>\n",
              "    <tr>\n",
              "      <th>3</th>\n",
              "      <td>Arkansas</td>\n",
              "      <td>1236999</td>\n",
              "    </tr>\n",
              "    <tr>\n",
              "      <th>4</th>\n",
              "      <td>California</td>\n",
              "      <td>16869052</td>\n",
              "    </tr>\n",
              "    <tr>\n",
              "      <th>5</th>\n",
              "      <td>Colorado</td>\n",
              "      <td>2606591</td>\n",
              "    </tr>\n",
              "    <tr>\n",
              "      <th>6</th>\n",
              "      <td>Connecticut</td>\n",
              "      <td>1748352</td>\n",
              "    </tr>\n",
              "    <tr>\n",
              "      <th>7</th>\n",
              "      <td>Delaware</td>\n",
              "      <td>427787</td>\n",
              "    </tr>\n",
              "    <tr>\n",
              "      <th>8</th>\n",
              "      <td>District of Columbia</td>\n",
              "      <td>335224</td>\n",
              "    </tr>\n",
              "    <tr>\n",
              "      <th>9</th>\n",
              "      <td>Florida</td>\n",
              "      <td>8432513</td>\n",
              "    </tr>\n",
              "    <tr>\n",
              "      <th>10</th>\n",
              "      <td>Georgia</td>\n",
              "      <td>4341894</td>\n",
              "    </tr>\n",
              "    <tr>\n",
              "      <th>11</th>\n",
              "      <td>Hawaii</td>\n",
              "      <td>678279</td>\n",
              "    </tr>\n",
              "    <tr>\n",
              "      <th>12</th>\n",
              "      <td>Idaho</td>\n",
              "      <td>704276</td>\n",
              "    </tr>\n",
              "    <tr>\n",
              "      <th>13</th>\n",
              "      <td>Illinois</td>\n",
              "      <td>5983836</td>\n",
              "    </tr>\n",
              "    <tr>\n",
              "      <th>14</th>\n",
              "      <td>Indiana</td>\n",
              "      <td>2986176</td>\n",
              "    </tr>\n",
              "    <tr>\n",
              "      <th>15</th>\n",
              "      <td>Iowa</td>\n",
              "      <td>1546601</td>\n",
              "    </tr>\n",
              "    <tr>\n",
              "      <th>16</th>\n",
              "      <td>Kansas</td>\n",
              "      <td>1393853</td>\n",
              "    </tr>\n",
              "    <tr>\n",
              "      <th>17</th>\n",
              "      <td>Kentucky</td>\n",
              "      <td>1864524</td>\n",
              "    </tr>\n",
              "    <tr>\n",
              "      <th>18</th>\n",
              "      <td>Louisiana</td>\n",
              "      <td>1986355</td>\n",
              "    </tr>\n",
              "    <tr>\n",
              "      <th>19</th>\n",
              "      <td>Maine</td>\n",
              "      <td>635475</td>\n",
              "    </tr>\n",
              "    <tr>\n",
              "      <th>20</th>\n",
              "      <td>Maryland</td>\n",
              "      <td>2942352</td>\n",
              "    </tr>\n",
              "    <tr>\n",
              "      <th>21</th>\n",
              "      <td>Massachusetts</td>\n",
              "      <td>3346749</td>\n",
              "    </tr>\n",
              "    <tr>\n",
              "      <th>22</th>\n",
              "      <td>Michigan</td>\n",
              "      <td>4279616</td>\n",
              "    </tr>\n",
              "    <tr>\n",
              "      <th>23</th>\n",
              "      <td>Minnesota</td>\n",
              "      <td>2776528</td>\n",
              "    </tr>\n",
              "    <tr>\n",
              "      <th>24</th>\n",
              "      <td>Mississippi</td>\n",
              "      <td>1189806</td>\n",
              "    </tr>\n",
              "    <tr>\n",
              "      <th>25</th>\n",
              "      <td>Missouri</td>\n",
              "      <td>2775023</td>\n",
              "    </tr>\n",
              "    <tr>\n",
              "      <th>26</th>\n",
              "      <td>Montana</td>\n",
              "      <td>478238</td>\n",
              "    </tr>\n",
              "    <tr>\n",
              "      <th>27</th>\n",
              "      <td>Nebraska</td>\n",
              "      <td>956034</td>\n",
              "    </tr>\n",
              "    <tr>\n",
              "      <th>28</th>\n",
              "      <td>Nevada</td>\n",
              "      <td>1251879</td>\n",
              "    </tr>\n",
              "    <tr>\n",
              "      <th>29</th>\n",
              "      <td>New Hampshire</td>\n",
              "      <td>682019</td>\n",
              "    </tr>\n",
              "    <tr>\n",
              "      <th>30</th>\n",
              "      <td>New Jersey</td>\n",
              "      <td>4190538</td>\n",
              "    </tr>\n",
              "    <tr>\n",
              "      <th>31</th>\n",
              "      <td>New Mexico</td>\n",
              "      <td>871117</td>\n",
              "    </tr>\n",
              "    <tr>\n",
              "      <th>32</th>\n",
              "      <td>New York</td>\n",
              "      <td>9064986</td>\n",
              "    </tr>\n",
              "    <tr>\n",
              "      <th>33</th>\n",
              "      <td>North Carolina</td>\n",
              "      <td>4361591</td>\n",
              "    </tr>\n",
              "    <tr>\n",
              "      <th>34</th>\n",
              "      <td>North Dakota</td>\n",
              "      <td>385843</td>\n",
              "    </tr>\n",
              "    <tr>\n",
              "      <th>35</th>\n",
              "      <td>Ohio</td>\n",
              "      <td>5263292</td>\n",
              "    </tr>\n",
              "    <tr>\n",
              "      <th>36</th>\n",
              "      <td>Oklahoma</td>\n",
              "      <td>1705849</td>\n",
              "    </tr>\n",
              "    <tr>\n",
              "      <th>37</th>\n",
              "      <td>Oregon</td>\n",
              "      <td>1751088</td>\n",
              "    </tr>\n",
              "    <tr>\n",
              "      <th>38</th>\n",
              "      <td>Pennsylvania</td>\n",
              "      <td>5879935</td>\n",
              "    </tr>\n",
              "    <tr>\n",
              "      <th>39</th>\n",
              "      <td>Puerto Rico</td>\n",
              "      <td>1026779</td>\n",
              "    </tr>\n",
              "    <tr>\n",
              "      <th>40</th>\n",
              "      <td>Rhode Island</td>\n",
              "      <td>507116</td>\n",
              "    </tr>\n",
              "    <tr>\n",
              "      <th>41</th>\n",
              "      <td>South Carolina</td>\n",
              "      <td>2062681</td>\n",
              "    </tr>\n",
              "    <tr>\n",
              "      <th>42</th>\n",
              "      <td>South Dakota</td>\n",
              "      <td>425712</td>\n",
              "    </tr>\n",
              "    <tr>\n",
              "      <th>43</th>\n",
              "      <td>Tennessee</td>\n",
              "      <td>2843629</td>\n",
              "    </tr>\n",
              "    <tr>\n",
              "      <th>44</th>\n",
              "      <td>Texas</td>\n",
              "      <td>11966019</td>\n",
              "    </tr>\n",
              "    <tr>\n",
              "      <th>45</th>\n",
              "      <td>Utah</td>\n",
              "      <td>1319944</td>\n",
              "    </tr>\n",
              "    <tr>\n",
              "      <th>46</th>\n",
              "      <td>Vermont</td>\n",
              "      <td>318435</td>\n",
              "    </tr>\n",
              "    <tr>\n",
              "      <th>47</th>\n",
              "      <td>Virginia</td>\n",
              "      <td>4020679</td>\n",
              "    </tr>\n",
              "    <tr>\n",
              "      <th>48</th>\n",
              "      <td>Washington</td>\n",
              "      <td>3236166</td>\n",
              "    </tr>\n",
              "    <tr>\n",
              "      <th>49</th>\n",
              "      <td>West Virginia</td>\n",
              "      <td>735009</td>\n",
              "    </tr>\n",
              "    <tr>\n",
              "      <th>50</th>\n",
              "      <td>Wisconsin</td>\n",
              "      <td>2835551</td>\n",
              "    </tr>\n",
              "    <tr>\n",
              "      <th>51</th>\n",
              "      <td>Wyoming</td>\n",
              "      <td>289747</td>\n",
              "    </tr>\n",
              "  </tbody>\n",
              "</table>\n",
              "</div>"
            ],
            "text/plain": [
              "              state_name  commute_counts\n",
              "0                Alabama         1995472\n",
              "1                 Alaska          356987\n",
              "2                Arizona         2777754\n",
              "3               Arkansas         1236999\n",
              "4             California        16869052\n",
              "5               Colorado         2606591\n",
              "6            Connecticut         1748352\n",
              "7               Delaware          427787\n",
              "8   District of Columbia          335224\n",
              "9                Florida         8432513\n",
              "10               Georgia         4341894\n",
              "11                Hawaii          678279\n",
              "12                 Idaho          704276\n",
              "13              Illinois         5983836\n",
              "14               Indiana         2986176\n",
              "15                  Iowa         1546601\n",
              "16                Kansas         1393853\n",
              "17              Kentucky         1864524\n",
              "18             Louisiana         1986355\n",
              "19                 Maine          635475\n",
              "20              Maryland         2942352\n",
              "21         Massachusetts         3346749\n",
              "22              Michigan         4279616\n",
              "23             Minnesota         2776528\n",
              "24           Mississippi         1189806\n",
              "25              Missouri         2775023\n",
              "26               Montana          478238\n",
              "27              Nebraska          956034\n",
              "28                Nevada         1251879\n",
              "29         New Hampshire          682019\n",
              "30            New Jersey         4190538\n",
              "31            New Mexico          871117\n",
              "32              New York         9064986\n",
              "33        North Carolina         4361591\n",
              "34          North Dakota          385843\n",
              "35                  Ohio         5263292\n",
              "36              Oklahoma         1705849\n",
              "37                Oregon         1751088\n",
              "38          Pennsylvania         5879935\n",
              "39           Puerto Rico         1026779\n",
              "40          Rhode Island          507116\n",
              "41        South Carolina         2062681\n",
              "42          South Dakota          425712\n",
              "43             Tennessee         2843629\n",
              "44                 Texas        11966019\n",
              "45                  Utah         1319944\n",
              "46               Vermont          318435\n",
              "47              Virginia         4020679\n",
              "48            Washington         3236166\n",
              "49         West Virginia          735009\n",
              "50             Wisconsin         2835551\n",
              "51               Wyoming          289747"
            ]
          },
          "metadata": {
            "tags": []
          },
          "execution_count": 364
        }
      ]
    },
    {
      "cell_type": "code",
      "metadata": {
        "id": "8CcQ1upzL54D",
        "colab_type": "code",
        "colab": {
          "base_uri": "https://localhost:8080/",
          "height": 68
        },
        "outputId": "33f6d059-9261-4d9c-f80d-a55cd3a7e9ca"
      },
      "source": [
        "commute.dtypes"
      ],
      "execution_count": 365,
      "outputs": [
        {
          "output_type": "execute_result",
          "data": {
            "text/plain": [
              "state_name        object\n",
              "commute_counts     int64\n",
              "dtype: object"
            ]
          },
          "metadata": {
            "tags": []
          },
          "execution_count": 365
        }
      ]
    },
    {
      "cell_type": "code",
      "metadata": {
        "id": "mEcZtCM6K6fT",
        "colab_type": "code",
        "colab": {
          "base_uri": "https://localhost:8080/",
          "height": 269
        },
        "outputId": "aa25dad5-208e-43e9-8b07-b2a777e9735b"
      },
      "source": [
        "den = pd.read_html(\"https://en.wikipedia.org/wiki/List_of_states_and_territories_of_the_United_States_by_population_density\",\n",
        "                         index_col=0, attrs={\"class\":\"wikitable\"}, header=0)[0]\n",
        "den.head()"
      ],
      "execution_count": 366,
      "outputs": [
        {
          "output_type": "execute_result",
          "data": {
            "text/html": [
              "<div>\n",
              "<style scoped>\n",
              "    .dataframe tbody tr th:only-of-type {\n",
              "        vertical-align: middle;\n",
              "    }\n",
              "\n",
              "    .dataframe tbody tr th {\n",
              "        vertical-align: top;\n",
              "    }\n",
              "\n",
              "    .dataframe thead th {\n",
              "        text-align: right;\n",
              "    }\n",
              "</style>\n",
              "<table border=\"1\" class=\"dataframe\">\n",
              "  <thead>\n",
              "    <tr style=\"text-align: right;\">\n",
              "      <th></th>\n",
              "      <th>Pop. dens. Rank</th>\n",
              "      <th>Pop. dens.Rank50 states</th>\n",
              "      <th>Density (Pop./ mi2)</th>\n",
              "      <th>Density (Pop./ km2)</th>\n",
              "      <th>Pop. Rank</th>\n",
              "      <th>2015population</th>\n",
              "      <th>Land Rank</th>\n",
              "      <th>Landarea(mi2)</th>\n",
              "      <th>Landarea(km2)</th>\n",
              "    </tr>\n",
              "    <tr>\n",
              "      <th>State</th>\n",
              "      <th></th>\n",
              "      <th></th>\n",
              "      <th></th>\n",
              "      <th></th>\n",
              "      <th></th>\n",
              "      <th></th>\n",
              "      <th></th>\n",
              "      <th></th>\n",
              "      <th></th>\n",
              "    </tr>\n",
              "  </thead>\n",
              "  <tbody>\n",
              "    <tr>\n",
              "      <th>District of Columbia</th>\n",
              "      <td>1</td>\n",
              "      <td>—</td>\n",
              "      <td>11011</td>\n",
              "      <td>4251</td>\n",
              "      <td>50</td>\n",
              "      <td>672228</td>\n",
              "      <td>56</td>\n",
              "      <td>61</td>\n",
              "      <td>158.0</td>\n",
              "    </tr>\n",
              "    <tr>\n",
              "      <th>New Jersey</th>\n",
              "      <td>2</td>\n",
              "      <td>1</td>\n",
              "      <td>1218</td>\n",
              "      <td>470</td>\n",
              "      <td>11</td>\n",
              "      <td>8958013</td>\n",
              "      <td>46</td>\n",
              "      <td>7354</td>\n",
              "      <td>19046.8</td>\n",
              "    </tr>\n",
              "    <tr>\n",
              "      <th>Puerto Rico</th>\n",
              "      <td>3</td>\n",
              "      <td>—</td>\n",
              "      <td>1046</td>\n",
              "      <td>404</td>\n",
              "      <td>29</td>\n",
              "      <td>3680058</td>\n",
              "      <td>49</td>\n",
              "      <td>3515</td>\n",
              "      <td>9103.8</td>\n",
              "    </tr>\n",
              "    <tr>\n",
              "      <th>Rhode Island</th>\n",
              "      <td>4</td>\n",
              "      <td>2</td>\n",
              "      <td>1021</td>\n",
              "      <td>394</td>\n",
              "      <td>44</td>\n",
              "      <td>1056298</td>\n",
              "      <td>51</td>\n",
              "      <td>1034</td>\n",
              "      <td>2678.0</td>\n",
              "    </tr>\n",
              "    <tr>\n",
              "      <th>Massachusetts</th>\n",
              "      <td>5</td>\n",
              "      <td>3</td>\n",
              "      <td>871</td>\n",
              "      <td>336</td>\n",
              "      <td>15</td>\n",
              "      <td>6794422</td>\n",
              "      <td>45</td>\n",
              "      <td>7800</td>\n",
              "      <td>20201.9</td>\n",
              "    </tr>\n",
              "  </tbody>\n",
              "</table>\n",
              "</div>"
            ],
            "text/plain": [
              "                      Pop. dens. Rank Pop. dens.Rank50 states  \\\n",
              "State                                                           \n",
              "District of Columbia                1                       —   \n",
              "New Jersey                          2                       1   \n",
              "Puerto Rico                         3                       —   \n",
              "Rhode Island                        4                       2   \n",
              "Massachusetts                       5                       3   \n",
              "\n",
              "                      Density (Pop./ mi2)  Density (Pop./ km2)  Pop. Rank  \\\n",
              "State                                                                       \n",
              "District of Columbia                11011                 4251         50   \n",
              "New Jersey                           1218                  470         11   \n",
              "Puerto Rico                          1046                  404         29   \n",
              "Rhode Island                         1021                  394         44   \n",
              "Massachusetts                         871                  336         15   \n",
              "\n",
              "                      2015population  Land Rank Landarea(mi2)  Landarea(km2)  \n",
              "State                                                                         \n",
              "District of Columbia          672228         56            61          158.0  \n",
              "New Jersey                   8958013         46          7354        19046.8  \n",
              "Puerto Rico                  3680058         49          3515         9103.8  \n",
              "Rhode Island                 1056298         51          1034         2678.0  \n",
              "Massachusetts                6794422         45          7800        20201.9  "
            ]
          },
          "metadata": {
            "tags": []
          },
          "execution_count": 366
        }
      ]
    },
    {
      "cell_type": "code",
      "metadata": {
        "id": "nhA_ZFC-LJVD",
        "colab_type": "code",
        "colab": {}
      },
      "source": [
        "den = den[['Density (Pop./ mi2)','2015population']]\n",
        "den.columns = ['Density','population']\n",
        "den.reset_index(inplace = True)"
      ],
      "execution_count": 0,
      "outputs": []
    },
    {
      "cell_type": "code",
      "metadata": {
        "id": "NaRMPuV7LRkO",
        "colab_type": "code",
        "colab": {
          "base_uri": "https://localhost:8080/",
          "height": 204
        },
        "outputId": "e1c0d483-de0b-4634-cb5c-a472676029fc"
      },
      "source": [
        "\n",
        "den.head()"
      ],
      "execution_count": 368,
      "outputs": [
        {
          "output_type": "execute_result",
          "data": {
            "text/html": [
              "<div>\n",
              "<style scoped>\n",
              "    .dataframe tbody tr th:only-of-type {\n",
              "        vertical-align: middle;\n",
              "    }\n",
              "\n",
              "    .dataframe tbody tr th {\n",
              "        vertical-align: top;\n",
              "    }\n",
              "\n",
              "    .dataframe thead th {\n",
              "        text-align: right;\n",
              "    }\n",
              "</style>\n",
              "<table border=\"1\" class=\"dataframe\">\n",
              "  <thead>\n",
              "    <tr style=\"text-align: right;\">\n",
              "      <th></th>\n",
              "      <th>State</th>\n",
              "      <th>Density</th>\n",
              "      <th>population</th>\n",
              "    </tr>\n",
              "  </thead>\n",
              "  <tbody>\n",
              "    <tr>\n",
              "      <th>0</th>\n",
              "      <td>District of Columbia</td>\n",
              "      <td>11011</td>\n",
              "      <td>672228</td>\n",
              "    </tr>\n",
              "    <tr>\n",
              "      <th>1</th>\n",
              "      <td>New Jersey</td>\n",
              "      <td>1218</td>\n",
              "      <td>8958013</td>\n",
              "    </tr>\n",
              "    <tr>\n",
              "      <th>2</th>\n",
              "      <td>Puerto Rico</td>\n",
              "      <td>1046</td>\n",
              "      <td>3680058</td>\n",
              "    </tr>\n",
              "    <tr>\n",
              "      <th>3</th>\n",
              "      <td>Rhode Island</td>\n",
              "      <td>1021</td>\n",
              "      <td>1056298</td>\n",
              "    </tr>\n",
              "    <tr>\n",
              "      <th>4</th>\n",
              "      <td>Massachusetts</td>\n",
              "      <td>871</td>\n",
              "      <td>6794422</td>\n",
              "    </tr>\n",
              "  </tbody>\n",
              "</table>\n",
              "</div>"
            ],
            "text/plain": [
              "                  State  Density  population\n",
              "0  District of Columbia    11011      672228\n",
              "1            New Jersey     1218     8958013\n",
              "2           Puerto Rico     1046     3680058\n",
              "3          Rhode Island     1021     1056298\n",
              "4         Massachusetts      871     6794422"
            ]
          },
          "metadata": {
            "tags": []
          },
          "execution_count": 368
        }
      ]
    },
    {
      "cell_type": "code",
      "metadata": {
        "id": "PgG6lEfPLil6",
        "colab_type": "code",
        "colab": {}
      },
      "source": [
        "data = commute.merge(den, \n",
        "                        left_on='state_name', \n",
        "                        right_on='State', \n",
        "                        how='inner', \n",
        "                        suffixes=[\"\",\"_2\"] #since they are the same name, we need a suffix\n",
        "                       )"
      ],
      "execution_count": 0,
      "outputs": []
    },
    {
      "cell_type": "code",
      "metadata": {
        "id": "VT9I5LFoLsTI",
        "colab_type": "code",
        "colab": {
          "base_uri": "https://localhost:8080/",
          "height": 204
        },
        "outputId": "7ad15695-c82b-4674-e6e0-96a0763c094c"
      },
      "source": [
        "data.head()"
      ],
      "execution_count": 370,
      "outputs": [
        {
          "output_type": "execute_result",
          "data": {
            "text/html": [
              "<div>\n",
              "<style scoped>\n",
              "    .dataframe tbody tr th:only-of-type {\n",
              "        vertical-align: middle;\n",
              "    }\n",
              "\n",
              "    .dataframe tbody tr th {\n",
              "        vertical-align: top;\n",
              "    }\n",
              "\n",
              "    .dataframe thead th {\n",
              "        text-align: right;\n",
              "    }\n",
              "</style>\n",
              "<table border=\"1\" class=\"dataframe\">\n",
              "  <thead>\n",
              "    <tr style=\"text-align: right;\">\n",
              "      <th></th>\n",
              "      <th>state_name</th>\n",
              "      <th>commute_counts</th>\n",
              "      <th>State</th>\n",
              "      <th>Density</th>\n",
              "      <th>population</th>\n",
              "    </tr>\n",
              "  </thead>\n",
              "  <tbody>\n",
              "    <tr>\n",
              "      <th>0</th>\n",
              "      <td>Alabama</td>\n",
              "      <td>1995472</td>\n",
              "      <td>Alabama</td>\n",
              "      <td>95</td>\n",
              "      <td>4858979</td>\n",
              "    </tr>\n",
              "    <tr>\n",
              "      <th>1</th>\n",
              "      <td>Alaska</td>\n",
              "      <td>356987</td>\n",
              "      <td>Alaska</td>\n",
              "      <td>1</td>\n",
              "      <td>738432</td>\n",
              "    </tr>\n",
              "    <tr>\n",
              "      <th>2</th>\n",
              "      <td>Arizona</td>\n",
              "      <td>2777754</td>\n",
              "      <td>Arizona</td>\n",
              "      <td>60</td>\n",
              "      <td>6828065</td>\n",
              "    </tr>\n",
              "    <tr>\n",
              "      <th>3</th>\n",
              "      <td>Arkansas</td>\n",
              "      <td>1236999</td>\n",
              "      <td>Arkansas</td>\n",
              "      <td>57</td>\n",
              "      <td>2978204</td>\n",
              "    </tr>\n",
              "    <tr>\n",
              "      <th>4</th>\n",
              "      <td>California</td>\n",
              "      <td>16869052</td>\n",
              "      <td>California</td>\n",
              "      <td>251</td>\n",
              "      <td>39144818</td>\n",
              "    </tr>\n",
              "  </tbody>\n",
              "</table>\n",
              "</div>"
            ],
            "text/plain": [
              "   state_name  commute_counts       State  Density  population\n",
              "0     Alabama         1995472     Alabama       95     4858979\n",
              "1      Alaska          356987      Alaska        1      738432\n",
              "2     Arizona         2777754     Arizona       60     6828065\n",
              "3    Arkansas         1236999    Arkansas       57     2978204\n",
              "4  California        16869052  California      251    39144818"
            ]
          },
          "metadata": {
            "tags": []
          },
          "execution_count": 370
        }
      ]
    },
    {
      "cell_type": "code",
      "metadata": {
        "id": "VygkKqARMlxZ",
        "colab_type": "code",
        "colab": {
          "base_uri": "https://localhost:8080/",
          "height": 119
        },
        "outputId": "0c55fb95-43a4-4e85-c8d2-74d52277923f"
      },
      "source": [
        "data.apply(lambda x: sum(x.isnull()),axis=0)"
      ],
      "execution_count": 371,
      "outputs": [
        {
          "output_type": "execute_result",
          "data": {
            "text/plain": [
              "state_name        0\n",
              "commute_counts    0\n",
              "State             0\n",
              "Density           0\n",
              "population        0\n",
              "dtype: int64"
            ]
          },
          "metadata": {
            "tags": []
          },
          "execution_count": 371
        }
      ]
    },
    {
      "cell_type": "code",
      "metadata": {
        "id": "lIkfLmx4MqX1",
        "colab_type": "code",
        "colab": {
          "base_uri": "https://localhost:8080/",
          "height": 68
        },
        "outputId": "57cef0c6-0d6a-4793-e51e-febddc7b192a"
      },
      "source": [
        "# find max\n",
        "print(\"Heighest of Commuter Counts:       \", data['commute_counts'].max())\n",
        "print(\"Heighest of Density:       \", data['Density'].max())\n",
        "print(\"Heighest of population:       \", data['population'].max())"
      ],
      "execution_count": 372,
      "outputs": [
        {
          "output_type": "stream",
          "text": [
            "Heighest of Commuter Counts:        16869052\n",
            "Heighest of Density:        11011\n",
            "Heighest of population:        39144818\n"
          ],
          "name": "stdout"
        }
      ]
    },
    {
      "cell_type": "code",
      "metadata": {
        "id": "adn8Z0qKM13r",
        "colab_type": "code",
        "colab": {
          "base_uri": "https://localhost:8080/",
          "height": 297
        },
        "outputId": "98300518-1f36-47ba-a171-6052c90d85f3"
      },
      "source": [
        "# Statistical Summary of Numeric Variables\n",
        "data.describe()"
      ],
      "execution_count": 373,
      "outputs": [
        {
          "output_type": "execute_result",
          "data": {
            "text/html": [
              "<div>\n",
              "<style scoped>\n",
              "    .dataframe tbody tr th:only-of-type {\n",
              "        vertical-align: middle;\n",
              "    }\n",
              "\n",
              "    .dataframe tbody tr th {\n",
              "        vertical-align: top;\n",
              "    }\n",
              "\n",
              "    .dataframe thead th {\n",
              "        text-align: right;\n",
              "    }\n",
              "</style>\n",
              "<table border=\"1\" class=\"dataframe\">\n",
              "  <thead>\n",
              "    <tr style=\"text-align: right;\">\n",
              "      <th></th>\n",
              "      <th>commute_counts</th>\n",
              "      <th>Density</th>\n",
              "      <th>population</th>\n",
              "    </tr>\n",
              "  </thead>\n",
              "  <tbody>\n",
              "    <tr>\n",
              "      <th>count</th>\n",
              "      <td>5.200000e+01</td>\n",
              "      <td>52.000000</td>\n",
              "      <td>5.200000e+01</td>\n",
              "    </tr>\n",
              "    <tr>\n",
              "      <th>mean</th>\n",
              "      <td>2.781691e+06</td>\n",
              "      <td>424.250000</td>\n",
              "      <td>6.251920e+06</td>\n",
              "    </tr>\n",
              "    <tr>\n",
              "      <th>std</th>\n",
              "      <td>3.111516e+06</td>\n",
              "      <td>1523.989577</td>\n",
              "      <td>7.139432e+06</td>\n",
              "    </tr>\n",
              "    <tr>\n",
              "      <th>min</th>\n",
              "      <td>2.897470e+05</td>\n",
              "      <td>1.000000</td>\n",
              "      <td>5.861070e+05</td>\n",
              "    </tr>\n",
              "    <tr>\n",
              "      <th>25%</th>\n",
              "      <td>7.273258e+05</td>\n",
              "      <td>49.750000</td>\n",
              "      <td>1.796828e+06</td>\n",
              "    </tr>\n",
              "    <tr>\n",
              "      <th>50%</th>\n",
              "      <td>1.807806e+06</td>\n",
              "      <td>106.500000</td>\n",
              "      <td>4.227034e+06</td>\n",
              "    </tr>\n",
              "    <tr>\n",
              "      <th>75%</th>\n",
              "      <td>3.263812e+06</td>\n",
              "      <td>236.000000</td>\n",
              "      <td>6.913636e+06</td>\n",
              "    </tr>\n",
              "    <tr>\n",
              "      <th>max</th>\n",
              "      <td>1.686905e+07</td>\n",
              "      <td>11011.000000</td>\n",
              "      <td>3.914482e+07</td>\n",
              "    </tr>\n",
              "  </tbody>\n",
              "</table>\n",
              "</div>"
            ],
            "text/plain": [
              "       commute_counts       Density    population\n",
              "count    5.200000e+01     52.000000  5.200000e+01\n",
              "mean     2.781691e+06    424.250000  6.251920e+06\n",
              "std      3.111516e+06   1523.989577  7.139432e+06\n",
              "min      2.897470e+05      1.000000  5.861070e+05\n",
              "25%      7.273258e+05     49.750000  1.796828e+06\n",
              "50%      1.807806e+06    106.500000  4.227034e+06\n",
              "75%      3.263812e+06    236.000000  6.913636e+06\n",
              "max      1.686905e+07  11011.000000  3.914482e+07"
            ]
          },
          "metadata": {
            "tags": []
          },
          "execution_count": 373
        }
      ]
    },
    {
      "cell_type": "code",
      "metadata": {
        "id": "Ssxe9XBWM6Ky",
        "colab_type": "code",
        "colab": {
          "base_uri": "https://localhost:8080/",
          "height": 616
        },
        "outputId": "a9d0439f-e600-450c-e681-ec771ed97925"
      },
      "source": [
        "# Boxplot for all\n",
        "plt.figure(figsize=(16, 10))\n",
        "sns.boxplot(data=data)"
      ],
      "execution_count": 374,
      "outputs": [
        {
          "output_type": "execute_result",
          "data": {
            "text/plain": [
              "<matplotlib.axes._subplots.AxesSubplot at 0x7ff74ddfe048>"
            ]
          },
          "metadata": {
            "tags": []
          },
          "execution_count": 374
        },
        {
          "output_type": "display_data",
          "data": {
            "image/png": "[encoded data removed]",
            "text/plain": [
              "<Figure size 1152x720 with 1 Axes>"
            ]
          },
          "metadata": {
            "tags": []
          }
        }
      ]
    },
    {
      "cell_type": "code",
      "metadata": {
        "id": "lhnm-KChNsvH",
        "colab_type": "code",
        "colab": {
          "base_uri": "https://localhost:8080/",
          "height": 622
        },
        "outputId": "68052ca4-5320-4fcf-9e33-22ff21a600f8"
      },
      "source": [
        "plt.figure(figsize=(16, 10))\n",
        "sns.boxplot(x=data['Density'])"
      ],
      "execution_count": 375,
      "outputs": [
        {
          "output_type": "execute_result",
          "data": {
            "text/plain": [
              "<matplotlib.axes._subplots.AxesSubplot at 0x7ff74ddfeda0>"
            ]
          },
          "metadata": {
            "tags": []
          },
          "execution_count": 375
        },
        {
          "output_type": "display_data",
          "data": {
            "image/png": "[encoded data removed]",
            "text/plain": [
              "<Figure size 1152x720 with 1 Axes>"
            ]
          },
          "metadata": {
            "tags": []
          }
        }
      ]
    },
    {
      "cell_type": "code",
      "metadata": {
        "id": "Ev4quoCKZBdA",
        "colab_type": "code",
        "colab": {
          "base_uri": "https://localhost:8080/",
          "height": 307
        },
        "outputId": "638c4861-d6e3-426d-a6f3-614d90866fce"
      },
      "source": [
        "# Distribution Plot (a.k.a. Histogram)\n",
        "sns.distplot(data.commute_counts)"
      ],
      "execution_count": 376,
      "outputs": [
        {
          "output_type": "execute_result",
          "data": {
            "text/plain": [
              "<matplotlib.axes._subplots.AxesSubplot at 0x7ff74dd37cf8>"
            ]
          },
          "metadata": {
            "tags": []
          },
          "execution_count": 376
        },
        {
          "output_type": "display_data",
          "data": {
            "image/png": "[encoded data removed]",
            "text/plain": [
              "<Figure size 432x288 with 1 Axes>"
            ]
          },
          "metadata": {
            "tags": []
          }
        }
      ]
    },
    {
      "cell_type": "code",
      "metadata": {
        "id": "T1-1qLIyZIQE",
        "colab_type": "code",
        "colab": {
          "base_uri": "https://localhost:8080/",
          "height": 307
        },
        "outputId": "a4ea241c-3253-4b45-db68-574636791f50"
      },
      "source": [
        "# Density Plot\n",
        "sns.kdeplot(data.population, data.commute_counts)"
      ],
      "execution_count": 377,
      "outputs": [
        {
          "output_type": "execute_result",
          "data": {
            "text/plain": [
              "<matplotlib.axes._subplots.AxesSubplot at 0x7ff74dc97ba8>"
            ]
          },
          "metadata": {
            "tags": []
          },
          "execution_count": 377
        },
        {
          "output_type": "display_data",
          "data": {
            "image/png": "[encoded data removed]",
            "text/plain": [
              "<Figure size 432x288 with 1 Axes>"
            ]
          },
          "metadata": {
            "tags": []
          }
        }
      ]
    },
    {
      "cell_type": "code",
      "metadata": {
        "id": "Yp-jVBySZR1k",
        "colab_type": "code",
        "colab": {
          "base_uri": "https://localhost:8080/",
          "height": 458
        },
        "outputId": "4eb47e9a-d5d7-4c2f-f05f-14049c8094dd"
      },
      "source": [
        "# Joint Distribution Plot\n",
        "sns.jointplot(x='population', y='commute_counts', data=data)"
      ],
      "execution_count": 378,
      "outputs": [
        {
          "output_type": "execute_result",
          "data": {
            "text/plain": [
              "<seaborn.axisgrid.JointGrid at 0x7ff74ddfe978>"
            ]
          },
          "metadata": {
            "tags": []
          },
          "execution_count": 378
        },
        {
          "output_type": "display_data",
          "data": {
            "image/png": "[encoded data removed]",
            "text/plain": [
              "<Figure size 432x432 with 3 Axes>"
            ]
          },
          "metadata": {
            "tags": []
          }
        }
      ]
    },
    {
      "cell_type": "code",
      "metadata": {
        "id": "9zwvCRV8Pfuz",
        "colab_type": "code",
        "colab": {
          "base_uri": "https://localhost:8080/",
          "height": 238
        },
        "outputId": "8eb6af7a-82da-4632-da9b-b0e5b67a06c8"
      },
      "source": [
        "# identify Z score for buyout\n",
        "from scipy import stats\n",
        "import numpy as np\n",
        "z = np.abs(stats.zscore(data.Density))\n",
        "print(z)"
      ],
      "execution_count": 379,
      "outputs": [
        {
          "output_type": "stream",
          "text": [
            "[2.18152589e-01 2.80434573e-01 2.41342689e-01 2.43330412e-01\n",
            " 1.14790998e-01 2.46643284e-01 2.09870410e-01 4.02513888e-02\n",
            " 7.01450848e+00 3.06440614e-02 1.63821496e-01 1.34005652e-01\n",
            " 2.67845661e-01 1.28042484e-01 1.59183476e-01 2.44655561e-01\n",
            " 2.57244472e-01 2.06888825e-01 2.09539123e-01 2.52606452e-01\n",
            " 1.28373771e-01 2.96005069e-01 1.65146645e-01 2.36042095e-01\n",
            " 2.39354966e-01 2.22790609e-01 2.76459127e-01 2.65195364e-01\n",
            " 2.63870215e-01 1.83036151e-01 5.25918351e-01 2.69833384e-01\n",
            " 2.81594078e-03 1.44606841e-01 2.74471404e-01 9.29260457e-02\n",
            " 2.43330412e-01 2.53931601e-01 9.16008971e-02 4.11955572e-01\n",
            " 3.95391214e-01 1.73760110e-01 2.73808830e-01 1.75085259e-01\n",
            " 2.11526846e-01 2.57244472e-01 2.36704669e-01 1.40631395e-01\n",
            " 2.10201697e-01 2.30741500e-01 2.10864271e-01 2.77121701e-01]\n"
          ],
          "name": "stdout"
        }
      ]
    },
    {
      "cell_type": "code",
      "metadata": {
        "id": "-ONwrYNJPlk4",
        "colab_type": "code",
        "colab": {
          "base_uri": "https://localhost:8080/",
          "height": 34
        },
        "outputId": "11c32690-259c-4bec-c598-0d4f726551cf"
      },
      "source": [
        "# identify array for z score greater than 3 (outlier)\n",
        "threshold = 3\n",
        "print(np.where(z > 3))"
      ],
      "execution_count": 380,
      "outputs": [
        {
          "output_type": "stream",
          "text": [
            "(array([8]),)\n"
          ],
          "name": "stdout"
        }
      ]
    },
    {
      "cell_type": "code",
      "metadata": {
        "id": "0B74nQKSPm88",
        "colab_type": "code",
        "colab": {
          "base_uri": "https://localhost:8080/",
          "height": 119
        },
        "outputId": "25cf1796-efe6-4d61-d67b-c8e04e9d762e"
      },
      "source": [
        "# locate the data\n",
        "data.iloc[8]"
      ],
      "execution_count": 381,
      "outputs": [
        {
          "output_type": "execute_result",
          "data": {
            "text/plain": [
              "state_name        District of Columbia\n",
              "commute_counts                  335224\n",
              "State             District of Columbia\n",
              "Density                          11011\n",
              "population                      672228\n",
              "Name: 8, dtype: object"
            ]
          },
          "metadata": {
            "tags": []
          },
          "execution_count": 381
        }
      ]
    },
    {
      "cell_type": "code",
      "metadata": {
        "id": "RT0Ea_zzN6IC",
        "colab_type": "code",
        "colab": {
          "base_uri": "https://localhost:8080/",
          "height": 283
        },
        "outputId": "443f75dd-c69c-4264-895b-500664e3bc31"
      },
      "source": [
        "# Calculate correlations\n",
        "corr = data.corr()\n",
        " \n",
        "# Heatmap\n",
        "sns.heatmap(corr)"
      ],
      "execution_count": 382,
      "outputs": [
        {
          "output_type": "execute_result",
          "data": {
            "text/plain": [
              "<matplotlib.axes._subplots.AxesSubplot at 0x7ff74db2d6a0>"
            ]
          },
          "metadata": {
            "tags": []
          },
          "execution_count": 382
        },
        {
          "output_type": "display_data",
          "data": {
            "image/png": "[encoded data removed]",
            "text/plain": [
              "<Figure size 432x288 with 2 Axes>"
            ]
          },
          "metadata": {
            "tags": []
          }
        }
      ]
    },
    {
      "cell_type": "code",
      "metadata": {
        "id": "NVcEkg8hOBo0",
        "colab_type": "code",
        "colab": {
          "base_uri": "https://localhost:8080/",
          "height": 573
        },
        "outputId": "981996c6-f0a4-4d6f-fe81-2c7e044e2ea3"
      },
      "source": [
        "# pairplots showing the relationship and distribution\n",
        "sns.pairplot(data)"
      ],
      "execution_count": 383,
      "outputs": [
        {
          "output_type": "execute_result",
          "data": {
            "text/plain": [
              "<seaborn.axisgrid.PairGrid at 0x7ff74dc25048>"
            ]
          },
          "metadata": {
            "tags": []
          },
          "execution_count": 383
        },
        {
          "output_type": "display_data",
          "data": {
            "image/png": "[encoded data removed]",
            "text/plain": [
              "<Figure size 540x540 with 12 Axes>"
            ]
          },
          "metadata": {
            "tags": []
          }
        }
      ]
    },
    {
      "cell_type": "code",
      "metadata": {
        "id": "y4hKJrXLOJwy",
        "colab_type": "code",
        "colab": {
          "base_uri": "https://localhost:8080/",
          "height": 386
        },
        "outputId": "3d34252a-26d2-49b8-bc4a-00aa22928fc0"
      },
      "source": [
        "sns.lmplot(x='commute_counts', y='population', data=data)\n",
        "plt.ylim(0, 40000000)\n",
        "plt.xlim(0, 20000000)"
      ],
      "execution_count": 384,
      "outputs": [
        {
          "output_type": "execute_result",
          "data": {
            "text/plain": [
              "(0, 20000000)"
            ]
          },
          "metadata": {
            "tags": []
          },
          "execution_count": 384
        },
        {
          "output_type": "display_data",
          "data": {
            "image/png": "[encoded data removed]",
            "text/plain": [
              "<Figure size 360x360 with 1 Axes>"
            ]
          },
          "metadata": {
            "tags": []
          }
        }
      ]
    },
    {
      "cell_type": "code",
      "metadata": {
        "id": "VaZIb5aPOiGw",
        "colab_type": "code",
        "colab": {}
      },
      "source": [
        "# create training and test datasets\n",
        "np.random.seed(1234)\n",
        "data['runiform'] = uniform.rvs(loc = 0, scale = 1, size = len(data))\n",
        "data_train = data[data['runiform'] >= 0.33]\n",
        "data_test = data[data['runiform'] < 0.33]"
      ],
      "execution_count": 0,
      "outputs": []
    },
    {
      "cell_type": "code",
      "metadata": {
        "id": "aVCTwoO3OnFy",
        "colab_type": "code",
        "colab": {
          "base_uri": "https://localhost:8080/",
          "height": 136
        },
        "outputId": "b9f2c809-1981-4f97-98a6-65081ca3990d"
      },
      "source": [
        "# check test data frame\n",
        "print('\\SusItems_test data frame (rows, columns): ',data_test.shape)\n",
        "print(data_test.head())"
      ],
      "execution_count": 386,
      "outputs": [
        {
          "output_type": "stream",
          "text": [
            "\\SusItems_test data frame (rows, columns):  (14, 6)\n",
            "     state_name  commute_counts        State  Density  population  runiform\n",
            "0       Alabama         1995472      Alabama       95     4858979  0.191519\n",
            "5      Colorado         2606591     Colorado       52     5456574  0.272593\n",
            "6   Connecticut         1748352  Connecticut      741     3590886  0.276464\n",
            "17     Kentucky         1864524     Kentucky      112     4425092  0.013768\n",
            "22     Michigan         4279616     Michigan      175     9922576  0.075381\n"
          ],
          "name": "stdout"
        }
      ]
    },
    {
      "cell_type": "code",
      "metadata": {
        "id": "-aW8_GnMOqPb",
        "colab_type": "code",
        "colab": {
          "base_uri": "https://localhost:8080/",
          "height": 493
        },
        "outputId": "1bd87bd1-e081-4d79-ec16-ac6ed7f3e722"
      },
      "source": [
        "# review results by variables\n",
        "# specify a simple model\n",
        "my_model = str('commute_counts ~ population + Density')\n",
        "\n",
        "# fit the model to the training set\n",
        "train_model_fit = smf.ols(my_model, data = data_train).fit()\n",
        "# summary of model fit to the training set\n",
        "print(train_model_fit.summary())"
      ],
      "execution_count": 387,
      "outputs": [
        {
          "output_type": "stream",
          "text": [
            "                            OLS Regression Results                            \n",
            "==============================================================================\n",
            "Dep. Variable:         commute_counts   R-squared:                       0.996\n",
            "Model:                            OLS   Adj. R-squared:                  0.996\n",
            "Method:                 Least Squares   F-statistic:                     4834.\n",
            "Date:                Wed, 08 May 2019   Prob (F-statistic):           1.78e-43\n",
            "Time:                        03:03:39   Log-Likelihood:                -519.54\n",
            "No. Observations:                  38   AIC:                             1045.\n",
            "Df Residuals:                      35   BIC:                             1050.\n",
            "Df Model:                           2                                         \n",
            "Covariance Type:            nonrobust                                         \n",
            "==============================================================================\n",
            "                 coef    std err          t      P>|t|      [0.025      0.975]\n",
            "------------------------------------------------------------------------------\n",
            "Intercept   6.722e+04   4.84e+04      1.389      0.173    -3.1e+04    1.65e+05\n",
            "population     0.4349      0.004     97.882      0.000       0.426       0.444\n",
            "Density       -0.9559     20.333     -0.047      0.963     -42.235      40.323\n",
            "==============================================================================\n",
            "Omnibus:                        4.239   Durbin-Watson:                   1.945\n",
            "Prob(Omnibus):                  0.120   Jarque-Bera (JB):                3.002\n",
            "Skew:                          -0.460   Prob(JB):                        0.223\n",
            "Kurtosis:                       4.024   Cond. No.                     1.44e+07\n",
            "==============================================================================\n",
            "\n",
            "Warnings:\n",
            "[1] Standard Errors assume that the covariance matrix of the errors is correctly specified.\n",
            "[2] The condition number is large, 1.44e+07. This might indicate that there are\n",
            "strong multicollinearity or other numerical problems.\n"
          ],
          "name": "stdout"
        }
      ]
    },
    {
      "cell_type": "code",
      "metadata": {
        "id": "CpybyHoURHit",
        "colab_type": "code",
        "colab": {
          "base_uri": "https://localhost:8080/",
          "height": 204
        },
        "outputId": "21f057ef-213c-4d28-9ede-4a2d6e4a43c5"
      },
      "source": [
        "geo = pd.read_html(\"https://inkplant.com/code/state-latitudes-longitudes\",\n",
        "                         index_col=0, attrs={\"class\":\"table table-hover\"}, header=0)[0]\n",
        "geo.reset_index(inplace = True)\n",
        "geo.head()"
      ],
      "execution_count": 388,
      "outputs": [
        {
          "output_type": "execute_result",
          "data": {
            "text/html": [
              "<div>\n",
              "<style scoped>\n",
              "    .dataframe tbody tr th:only-of-type {\n",
              "        vertical-align: middle;\n",
              "    }\n",
              "\n",
              "    .dataframe tbody tr th {\n",
              "        vertical-align: top;\n",
              "    }\n",
              "\n",
              "    .dataframe thead th {\n",
              "        text-align: right;\n",
              "    }\n",
              "</style>\n",
              "<table border=\"1\" class=\"dataframe\">\n",
              "  <thead>\n",
              "    <tr style=\"text-align: right;\">\n",
              "      <th></th>\n",
              "      <th>State</th>\n",
              "      <th>Latitude</th>\n",
              "      <th>Longitude</th>\n",
              "    </tr>\n",
              "  </thead>\n",
              "  <tbody>\n",
              "    <tr>\n",
              "      <th>0</th>\n",
              "      <td>Alabama</td>\n",
              "      <td>32.806671</td>\n",
              "      <td>-86.791130</td>\n",
              "    </tr>\n",
              "    <tr>\n",
              "      <th>1</th>\n",
              "      <td>Alaska</td>\n",
              "      <td>61.370716</td>\n",
              "      <td>-152.404419</td>\n",
              "    </tr>\n",
              "    <tr>\n",
              "      <th>2</th>\n",
              "      <td>Arizona</td>\n",
              "      <td>33.729759</td>\n",
              "      <td>-111.431221</td>\n",
              "    </tr>\n",
              "    <tr>\n",
              "      <th>3</th>\n",
              "      <td>Arkansas</td>\n",
              "      <td>34.969704</td>\n",
              "      <td>-92.373123</td>\n",
              "    </tr>\n",
              "    <tr>\n",
              "      <th>4</th>\n",
              "      <td>California</td>\n",
              "      <td>36.116203</td>\n",
              "      <td>-119.681564</td>\n",
              "    </tr>\n",
              "  </tbody>\n",
              "</table>\n",
              "</div>"
            ],
            "text/plain": [
              "        State   Latitude   Longitude\n",
              "0     Alabama  32.806671  -86.791130\n",
              "1      Alaska  61.370716 -152.404419\n",
              "2     Arizona  33.729759 -111.431221\n",
              "3    Arkansas  34.969704  -92.373123\n",
              "4  California  36.116203 -119.681564"
            ]
          },
          "metadata": {
            "tags": []
          },
          "execution_count": 388
        }
      ]
    },
    {
      "cell_type": "code",
      "metadata": {
        "id": "NlvJx6FTRnEi",
        "colab_type": "code",
        "colab": {}
      },
      "source": [
        "# Combine datasets\n",
        "datageo = data.merge(geo, \n",
        "                        left_on='state_name', \n",
        "                        right_on='State', \n",
        "                        how='inner', \n",
        "                        suffixes=[\"\",\"_2\"] #since they are the same name, we need a suffix\n",
        "                       )"
      ],
      "execution_count": 0,
      "outputs": []
    },
    {
      "cell_type": "code",
      "metadata": {
        "id": "vG4F3UIQRv7E",
        "colab_type": "code",
        "colab": {
          "base_uri": "https://localhost:8080/",
          "height": 204
        },
        "outputId": "6e66be5f-23be-4015-f033-f5cb26ada557"
      },
      "source": [
        "datageo.head()"
      ],
      "execution_count": 390,
      "outputs": [
        {
          "output_type": "execute_result",
          "data": {
            "text/html": [
              "<div>\n",
              "<style scoped>\n",
              "    .dataframe tbody tr th:only-of-type {\n",
              "        vertical-align: middle;\n",
              "    }\n",
              "\n",
              "    .dataframe tbody tr th {\n",
              "        vertical-align: top;\n",
              "    }\n",
              "\n",
              "    .dataframe thead th {\n",
              "        text-align: right;\n",
              "    }\n",
              "</style>\n",
              "<table border=\"1\" class=\"dataframe\">\n",
              "  <thead>\n",
              "    <tr style=\"text-align: right;\">\n",
              "      <th></th>\n",
              "      <th>state_name</th>\n",
              "      <th>commute_counts</th>\n",
              "      <th>State</th>\n",
              "      <th>Density</th>\n",
              "      <th>population</th>\n",
              "      <th>runiform</th>\n",
              "      <th>State_2</th>\n",
              "      <th>Latitude</th>\n",
              "      <th>Longitude</th>\n",
              "    </tr>\n",
              "  </thead>\n",
              "  <tbody>\n",
              "    <tr>\n",
              "      <th>0</th>\n",
              "      <td>Alabama</td>\n",
              "      <td>1995472</td>\n",
              "      <td>Alabama</td>\n",
              "      <td>95</td>\n",
              "      <td>4858979</td>\n",
              "      <td>0.191519</td>\n",
              "      <td>Alabama</td>\n",
              "      <td>32.806671</td>\n",
              "      <td>-86.791130</td>\n",
              "    </tr>\n",
              "    <tr>\n",
              "      <th>1</th>\n",
              "      <td>Alaska</td>\n",
              "      <td>356987</td>\n",
              "      <td>Alaska</td>\n",
              "      <td>1</td>\n",
              "      <td>738432</td>\n",
              "      <td>0.622109</td>\n",
              "      <td>Alaska</td>\n",
              "      <td>61.370716</td>\n",
              "      <td>-152.404419</td>\n",
              "    </tr>\n",
              "    <tr>\n",
              "      <th>2</th>\n",
              "      <td>Arizona</td>\n",
              "      <td>2777754</td>\n",
              "      <td>Arizona</td>\n",
              "      <td>60</td>\n",
              "      <td>6828065</td>\n",
              "      <td>0.437728</td>\n",
              "      <td>Arizona</td>\n",
              "      <td>33.729759</td>\n",
              "      <td>-111.431221</td>\n",
              "    </tr>\n",
              "    <tr>\n",
              "      <th>3</th>\n",
              "      <td>Arkansas</td>\n",
              "      <td>1236999</td>\n",
              "      <td>Arkansas</td>\n",
              "      <td>57</td>\n",
              "      <td>2978204</td>\n",
              "      <td>0.785359</td>\n",
              "      <td>Arkansas</td>\n",
              "      <td>34.969704</td>\n",
              "      <td>-92.373123</td>\n",
              "    </tr>\n",
              "    <tr>\n",
              "      <th>4</th>\n",
              "      <td>California</td>\n",
              "      <td>16869052</td>\n",
              "      <td>California</td>\n",
              "      <td>251</td>\n",
              "      <td>39144818</td>\n",
              "      <td>0.779976</td>\n",
              "      <td>California</td>\n",
              "      <td>36.116203</td>\n",
              "      <td>-119.681564</td>\n",
              "    </tr>\n",
              "  </tbody>\n",
              "</table>\n",
              "</div>"
            ],
            "text/plain": [
              "   state_name  commute_counts       State  Density  population  runiform  \\\n",
              "0     Alabama         1995472     Alabama       95     4858979  0.191519   \n",
              "1      Alaska          356987      Alaska        1      738432  0.622109   \n",
              "2     Arizona         2777754     Arizona       60     6828065  0.437728   \n",
              "3    Arkansas         1236999    Arkansas       57     2978204  0.785359   \n",
              "4  California        16869052  California      251    39144818  0.779976   \n",
              "\n",
              "      State_2   Latitude   Longitude  \n",
              "0     Alabama  32.806671  -86.791130  \n",
              "1      Alaska  61.370716 -152.404419  \n",
              "2     Arizona  33.729759 -111.431221  \n",
              "3    Arkansas  34.969704  -92.373123  \n",
              "4  California  36.116203 -119.681564  "
            ]
          },
          "metadata": {
            "tags": []
          },
          "execution_count": 390
        }
      ]
    },
    {
      "cell_type": "code",
      "metadata": {
        "id": "tDwyVflkWNkG",
        "colab_type": "code",
        "colab": {
          "base_uri": "https://localhost:8080/",
          "height": 187
        },
        "outputId": "d8bda161-7a6b-4274-c87c-f8cf6254208c"
      },
      "source": [
        "datageo.dtypes"
      ],
      "execution_count": 391,
      "outputs": [
        {
          "output_type": "execute_result",
          "data": {
            "text/plain": [
              "state_name         object\n",
              "commute_counts      int64\n",
              "State              object\n",
              "Density             int64\n",
              "population          int64\n",
              "runiform          float64\n",
              "State_2            object\n",
              "Latitude          float64\n",
              "Longitude         float64\n",
              "dtype: object"
            ]
          },
          "metadata": {
            "tags": []
          },
          "execution_count": 391
        }
      ]
    },
    {
      "cell_type": "code",
      "metadata": {
        "id": "iXyHD43vVqcQ",
        "colab_type": "code",
        "colab": {
          "base_uri": "https://localhost:8080/",
          "height": 204
        },
        "outputId": "4d3b3997-c3d9-4eb9-95e3-a707fb9f6274"
      },
      "source": [
        "datageo.head()"
      ],
      "execution_count": 392,
      "outputs": [
        {
          "output_type": "execute_result",
          "data": {
            "text/html": [
              "<div>\n",
              "<style scoped>\n",
              "    .dataframe tbody tr th:only-of-type {\n",
              "        vertical-align: middle;\n",
              "    }\n",
              "\n",
              "    .dataframe tbody tr th {\n",
              "        vertical-align: top;\n",
              "    }\n",
              "\n",
              "    .dataframe thead th {\n",
              "        text-align: right;\n",
              "    }\n",
              "</style>\n",
              "<table border=\"1\" class=\"dataframe\">\n",
              "  <thead>\n",
              "    <tr style=\"text-align: right;\">\n",
              "      <th></th>\n",
              "      <th>state_name</th>\n",
              "      <th>commute_counts</th>\n",
              "      <th>State</th>\n",
              "      <th>Density</th>\n",
              "      <th>population</th>\n",
              "      <th>runiform</th>\n",
              "      <th>State_2</th>\n",
              "      <th>Latitude</th>\n",
              "      <th>Longitude</th>\n",
              "    </tr>\n",
              "  </thead>\n",
              "  <tbody>\n",
              "    <tr>\n",
              "      <th>0</th>\n",
              "      <td>Alabama</td>\n",
              "      <td>1995472</td>\n",
              "      <td>Alabama</td>\n",
              "      <td>95</td>\n",
              "      <td>4858979</td>\n",
              "      <td>0.191519</td>\n",
              "      <td>Alabama</td>\n",
              "      <td>32.806671</td>\n",
              "      <td>-86.791130</td>\n",
              "    </tr>\n",
              "    <tr>\n",
              "      <th>1</th>\n",
              "      <td>Alaska</td>\n",
              "      <td>356987</td>\n",
              "      <td>Alaska</td>\n",
              "      <td>1</td>\n",
              "      <td>738432</td>\n",
              "      <td>0.622109</td>\n",
              "      <td>Alaska</td>\n",
              "      <td>61.370716</td>\n",
              "      <td>-152.404419</td>\n",
              "    </tr>\n",
              "    <tr>\n",
              "      <th>2</th>\n",
              "      <td>Arizona</td>\n",
              "      <td>2777754</td>\n",
              "      <td>Arizona</td>\n",
              "      <td>60</td>\n",
              "      <td>6828065</td>\n",
              "      <td>0.437728</td>\n",
              "      <td>Arizona</td>\n",
              "      <td>33.729759</td>\n",
              "      <td>-111.431221</td>\n",
              "    </tr>\n",
              "    <tr>\n",
              "      <th>3</th>\n",
              "      <td>Arkansas</td>\n",
              "      <td>1236999</td>\n",
              "      <td>Arkansas</td>\n",
              "      <td>57</td>\n",
              "      <td>2978204</td>\n",
              "      <td>0.785359</td>\n",
              "      <td>Arkansas</td>\n",
              "      <td>34.969704</td>\n",
              "      <td>-92.373123</td>\n",
              "    </tr>\n",
              "    <tr>\n",
              "      <th>4</th>\n",
              "      <td>California</td>\n",
              "      <td>16869052</td>\n",
              "      <td>California</td>\n",
              "      <td>251</td>\n",
              "      <td>39144818</td>\n",
              "      <td>0.779976</td>\n",
              "      <td>California</td>\n",
              "      <td>36.116203</td>\n",
              "      <td>-119.681564</td>\n",
              "    </tr>\n",
              "  </tbody>\n",
              "</table>\n",
              "</div>"
            ],
            "text/plain": [
              "   state_name  commute_counts       State  Density  population  runiform  \\\n",
              "0     Alabama         1995472     Alabama       95     4858979  0.191519   \n",
              "1      Alaska          356987      Alaska        1      738432  0.622109   \n",
              "2     Arizona         2777754     Arizona       60     6828065  0.437728   \n",
              "3    Arkansas         1236999    Arkansas       57     2978204  0.785359   \n",
              "4  California        16869052  California      251    39144818  0.779976   \n",
              "\n",
              "      State_2   Latitude   Longitude  \n",
              "0     Alabama  32.806671  -86.791130  \n",
              "1      Alaska  61.370716 -152.404419  \n",
              "2     Arizona  33.729759 -111.431221  \n",
              "3    Arkansas  34.969704  -92.373123  \n",
              "4  California  36.116203 -119.681564  "
            ]
          },
          "metadata": {
            "tags": []
          },
          "execution_count": 392
        }
      ]
    },
    {
      "cell_type": "code",
      "metadata": {
        "id": "HQbxmQkjWmtW",
        "colab_type": "code",
        "colab": {
          "base_uri": "https://localhost:8080/",
          "height": 546
        },
        "outputId": "ac322fd9-8e9e-4779-fa63-375db17cd042"
      },
      "source": [
        "import plotly.plotly as py\n",
        "import plotly.graph_objs as go\n",
        "\n",
        "import pandas as pd\n",
        "\n",
        "datageo.head()\n",
        "\n",
        "datageo['text'] = datageo['State'] + ', ' + datageo['commute_counts'].astype(str)\n",
        "\n",
        "scl = [ [0,\"rgb(5, 10, 172)\"],[0.35,\"rgb(40, 60, 190)\"],[0.5,\"rgb(70, 100, 245)\"],\\\n",
        "    [0.6,\"rgb(90, 120, 245)\"],[0.7,\"rgb(106, 137, 247)\"],[1,\"rgb(220, 220, 220)\"] ]\n",
        "\n",
        "data = [ go.Scattergeo(\n",
        "        locationmode = 'ISO-3',\n",
        "        lon = datageo['Longitude'],\n",
        "        lat = datageo['Latitude'],\n",
        "        text = datageo['text'],\n",
        "        mode = 'markers',\n",
        "        marker = dict( \n",
        "            size = 8, \n",
        "            opacity = 0.8,\n",
        "            reversescale = True,\n",
        "            autocolorscale = False,\n",
        "            symbol = 'square',\n",
        "            line = dict(\n",
        "                width=1,\n",
        "                color='rgba(102, 102, 102)'\n",
        "            ),\n",
        "            colorscale = scl,\n",
        "            cmin = 0,\n",
        "            color = datageo['commute_counts'],\n",
        "            cmax = datageo['commute_counts'].max(),\n",
        "            colorbar=dict(\n",
        "                title=\"\"\n",
        "            )\n",
        "        ))]\n",
        "\n",
        "layout = dict(\n",
        "        title = 'Commute<br>2015', \n",
        "        geo = dict(\n",
        "            scope='usa',\n",
        "            projection=dict( type='albers usa' ),\n",
        "            showland = True,\n",
        "            landcolor = \"rgb(250, 250, 250)\",\n",
        "            subunitcolor = \"rgb(217, 217, 217)\",\n",
        "            countrycolor = \"rgb(217, 217, 217)\",\n",
        "            countrywidth = 0.5,\n",
        "            subunitwidth = 0.5        \n",
        "        ),\n",
        "    )\n",
        "\n",
        "fig = go.Figure(data=data, layout=layout )\n",
        "py.iplot(fig, filename='d3-airports' )"
      ],
      "execution_count": 393,
      "outputs": [
        {
          "output_type": "execute_result",
          "data": {
            "text/html": [
              "<iframe id=\"igraph\" scrolling=\"no\" style=\"border:none;\" seamless=\"seamless\" src=\"https://plot.ly/~ygeszvain/4.embed\" height=\"525px\" width=\"100%\"></iframe>"
            ],
            "text/plain": [
              "<plotly.tools.PlotlyDisplay object>"
            ]
          },
          "metadata": {
            "tags": []
          },
          "execution_count": 393
        }
      ]
    }
  ]
}