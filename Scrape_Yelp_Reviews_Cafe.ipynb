{
 "cells": [
  {
   "cell_type": "code",
   "execution_count": 2,
   "metadata": {
    "colab": {
     "base_uri": "https://localhost:8080/",
     "height": 51
    },
    "colab_type": "code",
    "executionInfo": {
     "elapsed": 578,
     "status": "ok",
     "timestamp": 1565039374922,
     "user": {
      "displayName": "Randy Geszvain",
      "photoUrl": "",
      "userId": "01626251001813095820"
     },
     "user_tz": 300
    },
    "id": "Gek9jf-t2vSj",
    "outputId": "c73344c3-af2c-4898-bb1c-8c50d034f534"
   },
   "outputs": [
    {
     "name": "stderr",
     "output_type": "stream",
     "text": [
      "[nltk_data] Downloading package vader_lexicon to\n",
      "[nltk_data]     /Users/randallgeszvain/nltk_data...\n",
      "[nltk_data]   Package vader_lexicon is already up-to-date!\n"
     ]
    }
   ],
   "source": [
    "# importing libraries\n",
    "from urllib.request import urlopen as url #importing urllib for url request\n",
    "from bs4 import BeautifulSoup\n",
    "import requests\n",
    "import urllib.request\n",
    "from urllib.request import urlopen\n",
    "import re\n",
    "import time\n",
    "\n",
    "import pandas as pd #Importing the PANDAS python library\n",
    "import numpy as np #importing Numpy\n",
    "from matplotlib import pyplot as plt\n",
    "import seaborn as sns\n",
    "%matplotlib inline\n",
    "\n",
    "\n",
    "\n",
    "#from vaderSentiment.vaderSentiment import SentimentIntensityAnalyzer #initiating VADER instance\n",
    "\n",
    "import nltk\n",
    "nltk.download('vader_lexicon')\n",
    "from nltk.sentiment.vader import SentimentIntensityAnalyzer\n",
    "\n",
    "analyser = SentimentIntensityAnalyzer()"
   ]
  },
  {
   "cell_type": "code",
   "execution_count": 3,
   "metadata": {
    "colab": {
     "base_uri": "https://localhost:8080/",
     "height": 374
    },
    "colab_type": "code",
    "executionInfo": {
     "elapsed": 142011,
     "status": "error",
     "timestamp": 1565028868124,
     "user": {
      "displayName": "Randy Geszvain",
      "photoUrl": "",
      "userId": "01626251001813095820"
     },
     "user_tz": 300
    },
    "id": "E9o5mwFu1bTC",
    "outputId": "f7023d0a-e9e1-410e-bb63-b5ce9e303538"
   },
   "outputs": [],
   "source": [
    "CUISINES = ['stone-creek-coffee-milwaukee-14','kickapoo-coffee-roasters-milwaukee-2',\\\n",
    "            'colectivo-lakefront-milwaukee','rochambo-coffee-and-tea-house-milwaukee',\\\n",
    "            'pilcrow-coffee-milwaukee-2','dryhootch-coffeehouse-milwaukee',\\\n",
    "            'colectivo-coffee-milwaukee-5','alderaan-coffee-milwaukee','interval-milwaukee',\\\n",
    "            'anodyne-coffee-roasting-milwaukee-5','grace-place-coffee-milwaukee','holey-moley-coffee-doughnuts-milwaukee',\\\n",
    "           'colectivo-coffee-us-bank-milwaukee','sojourner-mobile-coffee-milwaukee','coffeetails-milwaukee',\\\n",
    "           'milwaukee-coffee-peddlers-milwaukee-2','stone-creek-coffee-milwaukee-13','starbucks-milwaukee-42',\\\n",
    "           'brewed-cafe-milwaukee-3','anodyne-coffee-roasting-co-public-market-milwaukee']\n",
    "\n",
    "biz=[]\n",
    "aggregateRating=[]\n",
    "priceRange=[]\n",
    "streetAddress=[]\n",
    "addressLocality=[]\n",
    "addressRegion=[]\n",
    "postalCode=[]\n",
    "yelp=[]  \n",
    "\n",
    "for name in CUISINES:\n",
    "  \n",
    "  for cp in np.arange(0,1):\n",
    "  \n",
    "    url = \"http://www.yelp.com/biz/\" + name + \"?start=\" + str(cp*20)\n",
    "    html = urlopen(url)\n",
    "    soup = BeautifulSoup(html, 'html.parser')\n",
    "    metas_biz = soup.findAll(\"meta\",{\"itemprop\":\"name\"})\n",
    "    metas_aggregateRating = soup.find_all(\"meta\",{\"itemprop\":\"ratingValue\"})\n",
    "    metas_priceRange = soup.find_all(\"meta\",{\"itemprop\":\"priceRange\"})\n",
    "    \n",
    "    biz.append(name)  \n",
    "    aggregateRating.extend(i for i in [meta_aggregateRating.attrs['content'] for meta_aggregateRating in metas_aggregateRating[0:1] if 'itemprop' in meta_aggregateRating.attrs])\n",
    "    priceRange.extend(i for i in [meta_priceRange.attrs['content'] for meta_priceRange in metas_priceRange if 'itemprop' in meta_priceRange.attrs])\n",
    "    streetAddress.extend(i.text for i in soup.findAll(\"span\",{\"itemprop\":\"streetAddress\"}))\n",
    "    addressLocality.extend(i.text for i in soup.findAll(\"span\",{\"itemprop\":\"addressLocality\"}))\n",
    "    addressRegion.extend(i.text for i in soup.findAll(\"span\",{\"itemprop\":\"addressRegion\"}))\n",
    "    postalCode.extend(i.text for i in soup.findAll(\"span\",{\"itemprop\":\"postalCode\"}))\n",
    "    time.sleep(8)\n",
    "\n",
    "\n",
    "biz = pd.DataFrame(biz)\n",
    "aggregateRating = pd.DataFrame(aggregateRating)\n",
    "priceRange = pd.DataFrame(priceRange)\n",
    "streetAddress = pd.DataFrame(streetAddress)\n",
    "addressLocality = pd.DataFrame(addressLocality)\n",
    "addressRegion = pd.DataFrame(addressRegion)\n",
    "postalCode = pd.DataFrame(postalCode)\n",
    "\n",
    "yelp = pd.concat([biz, aggregateRating,  priceRange,  streetAddress, addressLocality, addressRegion, postalCode], axis=1, ignore_index=True)\n",
    "yelp.columns = ['biz','aggregateRating','priceRange', 'streetAddress', 'addressLocality', 'addressRegion', 'postalCode']\n",
    "\n",
    "export = yelp.to_csv(\"yelp\" + \".csv\")"
   ]
  },
  {
   "cell_type": "code",
   "execution_count": null,
   "metadata": {},
   "outputs": [],
   "source": [
    "CUISINES = ['anodyne-coffee-roasting-co-public-market-milwaukee']\n",
    "\n",
    "for name in CUISINES:\n",
    "\n",
    "  date=[]\n",
    "  author=[]\n",
    "  #rating=[]\n",
    "  review=[]\n",
    "  yelp=[]  \n",
    "  \n",
    "  for cp in np.arange(0,10):\n",
    "  \n",
    "    url = \"http://www.yelp.com/biz/\" + name + \"?start=\" + str(cp*20)\n",
    "    html = urlopen(url)\n",
    "    soup = BeautifulSoup(html, 'html.parser')\n",
    "    metas_author = soup.findAll(\"meta\",{\"itemprop\":\"author\"})\n",
    "    #metas_ratingValue = soup.find_all(\"meta\",{\"itemprop\":\"ratingValue\"})\n",
    "    metas_date = soup.find_all(\"meta\",{\"itemprop\":\"datePublished\"})\n",
    "    \n",
    "    date.extend(i for i in [meta_date.attrs['content'] for meta_date in metas_date if 'itemprop' in meta_date.attrs])  \n",
    "    author.extend(i for i in [meta_author.attrs['content'] for meta_author in metas_author if 'itemprop' in meta_author.attrs])\n",
    "    #rating.extend(i for i in [meta_ratingValue.attrs['content'] for meta_ratingValue in metas_ratingValue[1:21] if 'itemprop' in meta_ratingValue.attrs])\n",
    "    review.extend(i.text for i in soup.findAll(\"p\",{\"itemprop\":\"description\"}))\n",
    "    time.sleep(10)\n",
    "\n",
    "\n",
    "  date = pd.DataFrame(date)\n",
    "  author = pd.DataFrame(author)\n",
    "  #rating = pd.DataFrame(rating)\n",
    "  review = pd.DataFrame(review)\n",
    "\n",
    "  yelp = pd.concat([date, author,  review], axis=1, ignore_index=True)\n",
    "  yelp.columns = ['date','author','review']\n",
    "\n",
    "  export = yelp.to_csv(name + \".csv\")"
   ]
  },
  {
   "cell_type": "code",
   "execution_count": 65,
   "metadata": {
    "colab": {},
    "colab_type": "code",
    "id": "Pa3N6TWz9y4J"
   },
   "outputs": [],
   "source": [
    "stone_creek_coffee_milwaukee_14 = pd.read_csv('stone-creek-coffee-milwaukee-14.csv',index_col=0)\n",
    "kickapoo_coffee_roasters_milwaukee_2 = pd.read_csv('kickapoo-coffee-roasters-milwaukee-2.csv',index_col=0)\n",
    "colectivo_lakefront_milwaukee = pd.read_csv('colectivo-lakefront-milwaukee.csv',index_col=0)\n",
    "rochambo_coffee_and_tea_house_milwaukee = pd.read_csv('rochambo-coffee-and-tea-house-milwaukee.csv',index_col=0)\n",
    "pilcrow_coffee_milwaukee_2 = pd.read_csv('pilcrow-coffee-milwaukee-2.csv',index_col=0)\n",
    "dryhootch_coffeehouse_milwaukee = pd.read_csv('dryhootch-coffeehouse-milwaukee.csv',index_col=0)\n",
    "colectivo_coffee_milwaukee_5 = pd.read_csv('colectivo-coffee-milwaukee-5.csv',index_col=0)\n",
    "alderaan_coffee_milwaukee = pd.read_csv('alderaan-coffee-milwaukee.csv',index_col=0)\n",
    "interval_milwaukee = pd.read_csv('interval-milwaukee.csv',index_col=0)\n",
    "anodyne_coffee_roasting_milwaukee_5 = pd.read_csv('anodyne-coffee-roasting-milwaukee-5.csv',index_col=0)\n",
    "grace_place_coffee_milwaukee = pd.read_csv('grace-place-coffee-milwaukee.csv',index_col=0)\n",
    "holey_moley_coffee_doughnuts_milwaukee = pd.read_csv('holey-moley-coffee-doughnuts-milwaukee.csv',index_col=0)\n",
    "colectivo_coffee_us_bank_milwaukee = pd.read_csv('colectivo-coffee-us-bank-milwaukee.csv',index_col=0)\n",
    "sojourner_mobile_coffee_milwaukee = pd.read_csv('sojourner-mobile-coffee-milwaukee.csv',index_col=0)\n",
    "coffeetails_milwaukee = pd.read_csv('coffeetails-milwaukee.csv',index_col=0)\n",
    "milwaukee_coffee_peddlers_milwaukee_2 = pd.read_csv('milwaukee-coffee-peddlers-milwaukee-2.csv',index_col=0)\n",
    "stone_creek_coffee_milwaukee_13 = pd.read_csv('stone-creek-coffee-milwaukee-13.csv',index_col=0)"
   ]
  },
  {
   "cell_type": "code",
   "execution_count": 66,
   "metadata": {
    "colab": {},
    "colab_type": "code",
    "id": "7f4pfSJcu5Y4"
   },
   "outputs": [],
   "source": [
    "stone_creek_coffee_milwaukee_14['name'] = 'stone_creek_coffee_milwaukee_14'\n",
    "kickapoo_coffee_roasters_milwaukee_2['name'] = 'colectivo_lakefront_milwaukee'\n",
    "colectivo_lakefront_milwaukee['name'] = 'rochambo_coffee_and_tea_house_milwaukee'\n",
    "rochambo_coffee_and_tea_house_milwaukee['name'] = 'rochambo_coffee_and_tea_house_milwaukee'\n",
    "pilcrow_coffee_milwaukee_2['name'] = 'pilcrow_coffee_milwaukee_2'\n",
    "dryhootch_coffeehouse_milwaukee['name'] = 'dryhootch_coffeehouse_milwaukee'\n",
    "colectivo_coffee_milwaukee_5['name'] = 'colectivo_coffee_milwaukee_5'\n",
    "alderaan_coffee_milwaukee['name'] = 'alderaan_coffee_milwaukee'\n",
    "anodyne_coffee_roasting_milwaukee_5['name'] = 'anodyne_coffee_roasting_milwaukee_5'\n",
    "grace_place_coffee_milwaukee['name'] = 'grace_place_coffee_milwaukee'\n",
    "holey_moley_coffee_doughnuts_milwaukee['name'] = 'holey_moley_coffee_doughnuts_milwaukee'\n",
    "colectivo_coffee_us_bank_milwaukee['name'] = 'colectivo_coffee_us_bank_milwaukee'\n",
    "sojourner_mobile_coffee_milwaukee['name'] = 'sojourner_mobile_coffee_milwaukee'\n",
    "coffeetails_milwaukee['name'] = 'coffeetails_milwaukee'\n",
    "milwaukee_coffee_peddlers_milwaukee_2['name'] = 'milwaukee_coffee_peddlers_milwaukee_2'\n",
    "stone_creek_coffee_milwaukee_13['name'] = 'stone_creek_coffee_milwaukee_13'"
   ]
  },
  {
   "cell_type": "code",
   "execution_count": 67,
   "metadata": {
    "colab": {},
    "colab_type": "code",
    "id": "DnRFVdB1F1Zc"
   },
   "outputs": [],
   "source": [
    "sentences = stone_creek_coffee_milwaukee_14.append([colectivo_lakefront_milwaukee, \\\n",
    "                                            rochambo_coffee_and_tea_house_milwaukee, \\\n",
    "                                            rochambo_coffee_and_tea_house_milwaukee, \\\n",
    "                                            pilcrow_coffee_milwaukee_2, \\\n",
    "                                            dryhootch_coffeehouse_milwaukee, \\\n",
    "                                            colectivo_coffee_milwaukee_5, \\\n",
    "                                            alderaan_coffee_milwaukee, \\\n",
    "                                            anodyne_coffee_roasting_milwaukee_5, \\\n",
    "                                            grace_place_coffee_milwaukee, \\\n",
    "                                            holey_moley_coffee_doughnuts_milwaukee, \\\n",
    "                                            colectivo_coffee_us_bank_milwaukee, \\\n",
    "                                            sojourner_mobile_coffee_milwaukee, \\\n",
    "                                            coffeetails_milwaukee, \\\n",
    "                                            milwaukee_coffee_peddlers_milwaukee_2, \\\n",
    "                                            stone_creek_coffee_milwaukee_13])"
   ]
  },
  {
   "cell_type": "code",
   "execution_count": 68,
   "metadata": {
    "colab": {
     "base_uri": "https://localhost:8080/",
     "height": 34
    },
    "colab_type": "code",
    "executionInfo": {
     "elapsed": 2290,
     "status": "ok",
     "timestamp": 1565033509225,
     "user": {
      "displayName": "Randy Geszvain",
      "photoUrl": "",
      "userId": "01626251001813095820"
     },
     "user_tz": 300
    },
    "id": "xt08CX_dLewf",
    "outputId": "61e93599-4622-4f61-bfd8-f5e8c36dc217"
   },
   "outputs": [
    {
     "data": {
      "text/plain": [
       "1192"
      ]
     },
     "execution_count": 68,
     "metadata": {},
     "output_type": "execute_result"
    }
   ],
   "source": [
    "len(sentences)"
   ]
  },
  {
   "cell_type": "code",
   "execution_count": 69,
   "metadata": {
    "colab": {},
    "colab_type": "code",
    "id": "7X2vRTWKLmCD"
   },
   "outputs": [],
   "source": [
    "sentences = sentences.rename(columns={\"review\": \"text\"})"
   ]
  },
  {
   "cell_type": "code",
   "execution_count": 70,
   "metadata": {
    "colab": {
     "base_uri": "https://localhost:8080/",
     "height": 204
    },
    "colab_type": "code",
    "executionInfo": {
     "elapsed": 2247,
     "status": "ok",
     "timestamp": 1565033509228,
     "user": {
      "displayName": "Randy Geszvain",
      "photoUrl": "",
      "userId": "01626251001813095820"
     },
     "user_tz": 300
    },
    "id": "nlJIjTcNLkZf",
    "outputId": "e0b6960f-0d03-4786-8397-be05a0b167fc"
   },
   "outputs": [
    {
     "data": {
      "text/html": [
       "<div>\n",
       "<style scoped>\n",
       "    .dataframe tbody tr th:only-of-type {\n",
       "        vertical-align: middle;\n",
       "    }\n",
       "\n",
       "    .dataframe tbody tr th {\n",
       "        vertical-align: top;\n",
       "    }\n",
       "\n",
       "    .dataframe thead th {\n",
       "        text-align: right;\n",
       "    }\n",
       "</style>\n",
       "<table border=\"1\" class=\"dataframe\">\n",
       "  <thead>\n",
       "    <tr style=\"text-align: right;\">\n",
       "      <th></th>\n",
       "      <th>date</th>\n",
       "      <th>author</th>\n",
       "      <th>text</th>\n",
       "      <th>name</th>\n",
       "    </tr>\n",
       "  </thead>\n",
       "  <tbody>\n",
       "    <tr>\n",
       "      <th>0</th>\n",
       "      <td>2019-04-09</td>\n",
       "      <td>Mike L.</td>\n",
       "      <td>What can I say that hasn't already been said.....</td>\n",
       "      <td>stone_creek_coffee_milwaukee_14</td>\n",
       "    </tr>\n",
       "    <tr>\n",
       "      <th>1</th>\n",
       "      <td>2019-07-23</td>\n",
       "      <td>Mary D.</td>\n",
       "      <td>My mom and I stopped here for coffee while on ...</td>\n",
       "      <td>stone_creek_coffee_milwaukee_14</td>\n",
       "    </tr>\n",
       "    <tr>\n",
       "      <th>2</th>\n",
       "      <td>2019-02-03</td>\n",
       "      <td>Staci C.</td>\n",
       "      <td>What an adorable and super spacious coffee sto...</td>\n",
       "      <td>stone_creek_coffee_milwaukee_14</td>\n",
       "    </tr>\n",
       "    <tr>\n",
       "      <th>3</th>\n",
       "      <td>2019-08-11</td>\n",
       "      <td>T P.</td>\n",
       "      <td>This location is a little hard to find with co...</td>\n",
       "      <td>stone_creek_coffee_milwaukee_14</td>\n",
       "    </tr>\n",
       "    <tr>\n",
       "      <th>4</th>\n",
       "      <td>2018-04-15</td>\n",
       "      <td>Jennifer R.</td>\n",
       "      <td>After recently attending a \"coffee cupping,\" S...</td>\n",
       "      <td>stone_creek_coffee_milwaukee_14</td>\n",
       "    </tr>\n",
       "  </tbody>\n",
       "</table>\n",
       "</div>"
      ],
      "text/plain": [
       "         date       author                                               text  \\\n",
       "0  2019-04-09      Mike L.  What can I say that hasn't already been said.....   \n",
       "1  2019-07-23      Mary D.  My mom and I stopped here for coffee while on ...   \n",
       "2  2019-02-03     Staci C.  What an adorable and super spacious coffee sto...   \n",
       "3  2019-08-11         T P.  This location is a little hard to find with co...   \n",
       "4  2018-04-15  Jennifer R.  After recently attending a \"coffee cupping,\" S...   \n",
       "\n",
       "                              name  \n",
       "0  stone_creek_coffee_milwaukee_14  \n",
       "1  stone_creek_coffee_milwaukee_14  \n",
       "2  stone_creek_coffee_milwaukee_14  \n",
       "3  stone_creek_coffee_milwaukee_14  \n",
       "4  stone_creek_coffee_milwaukee_14  "
      ]
     },
     "execution_count": 70,
     "metadata": {},
     "output_type": "execute_result"
    }
   ],
   "source": [
    "sentences.head()"
   ]
  },
  {
   "cell_type": "code",
   "execution_count": 71,
   "metadata": {
    "colab": {},
    "colab_type": "code",
    "id": "r8-yiQAsMV5C"
   },
   "outputs": [],
   "source": [
    "def print_sentiment_scores(sentence):\n",
    "    snt = analyser.polarity_scores(sentence)  #Calling the polarity analyzer\n",
    "    print(\"{:-<40} {}\".format(sentence, str(snt)))"
   ]
  },
  {
   "cell_type": "code",
   "execution_count": 72,
   "metadata": {
    "colab": {
     "base_uri": "https://localhost:8080/",
     "height": 68
    },
    "colab_type": "code",
    "executionInfo": {
     "elapsed": 4704,
     "status": "ok",
     "timestamp": 1565033511754,
     "user": {
      "displayName": "Randy Geszvain",
      "photoUrl": "",
      "userId": "01626251001813095820"
     },
     "user_tz": 300
    },
    "id": "ipEWJ4LhMYpf",
    "outputId": "6b948a26-e6bb-413a-cf73-7abccfc9a03b"
   },
   "outputs": [
    {
     "name": "stdout",
     "output_type": "stream",
     "text": [
      "CPU times: user 2 µs, sys: 1 µs, total: 3 µs\n",
      "Wall time: 5.01 µs\n"
     ]
    },
    {
     "data": {
      "text/plain": [
       "1192"
      ]
     },
     "execution_count": 72,
     "metadata": {},
     "output_type": "execute_result"
    }
   ],
   "source": [
    "%time   #to calulate the time it takes the algorithm to compute a VADER score\n",
    "\n",
    "i=0 #counter\n",
    "\n",
    "compval1 = [ ]  #empty list to hold our computed 'compound' VADER scores\n",
    "\n",
    "\n",
    "while (i<len(sentences)):\n",
    "\n",
    "    k = analyser.polarity_scores(sentences.iloc[i]['text'])\n",
    "    compval1.append(k['compound'])\n",
    "    \n",
    "    i = i+1\n",
    "    \n",
    "#converting sentiment values to numpy for easier usage\n",
    "\n",
    "compval1 = np.array(compval1)\n",
    "\n",
    "len(compval1)"
   ]
  },
  {
   "cell_type": "code",
   "execution_count": 73,
   "metadata": {
    "colab": {},
    "colab_type": "code",
    "id": "rL4caGGbMgPs"
   },
   "outputs": [],
   "source": [
    "sentences['VADER score'] = compval1"
   ]
  },
  {
   "cell_type": "code",
   "execution_count": 74,
   "metadata": {
    "colab": {
     "base_uri": "https://localhost:8080/",
     "height": 119
    },
    "colab_type": "code",
    "executionInfo": {
     "elapsed": 4665,
     "status": "ok",
     "timestamp": 1565033511759,
     "user": {
      "displayName": "Randy Geszvain",
      "photoUrl": "",
      "userId": "01626251001813095820"
     },
     "user_tz": 300
    },
    "id": "QX0MWv_AMhqb",
    "outputId": "f3974776-c8d8-4799-bff9-9bd39e716c2f"
   },
   "outputs": [
    {
     "data": {
      "text/plain": [
       "date            object\n",
       "author          object\n",
       "text            object\n",
       "name            object\n",
       "VADER score    float64\n",
       "dtype: object"
      ]
     },
     "execution_count": 74,
     "metadata": {},
     "output_type": "execute_result"
    }
   ],
   "source": [
    "sentences.dtypes"
   ]
  },
  {
   "cell_type": "code",
   "execution_count": 75,
   "metadata": {
    "colab": {},
    "colab_type": "code",
    "id": "MmnoIWjhasIf"
   },
   "outputs": [],
   "source": [
    "VADER_avg = sentences[['name','VADER score']]"
   ]
  },
  {
   "cell_type": "code",
   "execution_count": 76,
   "metadata": {
    "colab": {},
    "colab_type": "code",
    "id": "qePlCWeHa7KI"
   },
   "outputs": [],
   "source": [
    "VADER_avg = VADER_avg.groupby(['name']).mean()"
   ]
  },
  {
   "cell_type": "code",
   "execution_count": 77,
   "metadata": {
    "colab": {},
    "colab_type": "code",
    "id": "xKO9lB_BbJb_"
   },
   "outputs": [],
   "source": [
    "VADER_avg = pd.DataFrame(VADER_avg)"
   ]
  },
  {
   "cell_type": "code",
   "execution_count": 78,
   "metadata": {},
   "outputs": [],
   "source": [
    "VADER_avg['VADER score'] = round(((VADER_avg['VADER score']+1)/4)*10,1)"
   ]
  },
  {
   "cell_type": "code",
   "execution_count": 79,
   "metadata": {
    "colab": {
     "base_uri": "https://localhost:8080/",
     "height": 235
    },
    "colab_type": "code",
    "executionInfo": {
     "elapsed": 4583,
     "status": "ok",
     "timestamp": 1565033511763,
     "user": {
      "displayName": "Randy Geszvain",
      "photoUrl": "",
      "userId": "01626251001813095820"
     },
     "user_tz": 300
    },
    "id": "caRDfBQBH51K",
    "outputId": "849c91eb-1b7a-4779-e67c-86b6aaa18430"
   },
   "outputs": [],
   "source": [
    "VADER_avg = VADER_avg.transpose()"
   ]
  },
  {
   "cell_type": "code",
   "execution_count": 80,
   "metadata": {},
   "outputs": [
    {
     "data": {
      "text/html": [
       "<div>\n",
       "<style scoped>\n",
       "    .dataframe tbody tr th:only-of-type {\n",
       "        vertical-align: middle;\n",
       "    }\n",
       "\n",
       "    .dataframe tbody tr th {\n",
       "        vertical-align: top;\n",
       "    }\n",
       "\n",
       "    .dataframe thead th {\n",
       "        text-align: right;\n",
       "    }\n",
       "</style>\n",
       "<table border=\"1\" class=\"dataframe\">\n",
       "  <thead>\n",
       "    <tr style=\"text-align: right;\">\n",
       "      <th>name</th>\n",
       "      <th>alderaan_coffee_milwaukee</th>\n",
       "      <th>anodyne_coffee_roasting_milwaukee_5</th>\n",
       "      <th>coffeetails_milwaukee</th>\n",
       "      <th>colectivo_coffee_milwaukee_5</th>\n",
       "      <th>colectivo_coffee_us_bank_milwaukee</th>\n",
       "      <th>dryhootch_coffeehouse_milwaukee</th>\n",
       "      <th>grace_place_coffee_milwaukee</th>\n",
       "      <th>holey_moley_coffee_doughnuts_milwaukee</th>\n",
       "      <th>milwaukee_coffee_peddlers_milwaukee_2</th>\n",
       "      <th>pilcrow_coffee_milwaukee_2</th>\n",
       "      <th>rochambo_coffee_and_tea_house_milwaukee</th>\n",
       "      <th>sojourner_mobile_coffee_milwaukee</th>\n",
       "      <th>stone_creek_coffee_milwaukee_13</th>\n",
       "      <th>stone_creek_coffee_milwaukee_14</th>\n",
       "    </tr>\n",
       "  </thead>\n",
       "  <tbody>\n",
       "    <tr>\n",
       "      <th>VADER score</th>\n",
       "      <td>4.4</td>\n",
       "      <td>4.6</td>\n",
       "      <td>4.0</td>\n",
       "      <td>4.3</td>\n",
       "      <td>4.5</td>\n",
       "      <td>4.3</td>\n",
       "      <td>4.6</td>\n",
       "      <td>4.5</td>\n",
       "      <td>4.9</td>\n",
       "      <td>4.7</td>\n",
       "      <td>4.5</td>\n",
       "      <td>4.8</td>\n",
       "      <td>4.7</td>\n",
       "      <td>4.6</td>\n",
       "    </tr>\n",
       "  </tbody>\n",
       "</table>\n",
       "</div>"
      ],
      "text/plain": [
       "name         alderaan_coffee_milwaukee  anodyne_coffee_roasting_milwaukee_5  \\\n",
       "VADER score                        4.4                                  4.6   \n",
       "\n",
       "name         coffeetails_milwaukee  colectivo_coffee_milwaukee_5  \\\n",
       "VADER score                    4.0                           4.3   \n",
       "\n",
       "name         colectivo_coffee_us_bank_milwaukee  \\\n",
       "VADER score                                 4.5   \n",
       "\n",
       "name         dryhootch_coffeehouse_milwaukee  grace_place_coffee_milwaukee  \\\n",
       "VADER score                              4.3                           4.6   \n",
       "\n",
       "name         holey_moley_coffee_doughnuts_milwaukee  \\\n",
       "VADER score                                     4.5   \n",
       "\n",
       "name         milwaukee_coffee_peddlers_milwaukee_2  \\\n",
       "VADER score                                    4.9   \n",
       "\n",
       "name         pilcrow_coffee_milwaukee_2  \\\n",
       "VADER score                         4.7   \n",
       "\n",
       "name         rochambo_coffee_and_tea_house_milwaukee  \\\n",
       "VADER score                                      4.5   \n",
       "\n",
       "name         sojourner_mobile_coffee_milwaukee  \\\n",
       "VADER score                                4.8   \n",
       "\n",
       "name         stone_creek_coffee_milwaukee_13  stone_creek_coffee_milwaukee_14  \n",
       "VADER score                              4.7                              4.6  "
      ]
     },
     "execution_count": 80,
     "metadata": {},
     "output_type": "execute_result"
    }
   ],
   "source": [
    "VADER_avg"
   ]
  },
  {
   "cell_type": "code",
   "execution_count": 81,
   "metadata": {
    "colab": {
     "base_uri": "https://localhost:8080/",
     "height": 286
    },
    "colab_type": "code",
    "executionInfo": {
     "elapsed": 4549,
     "status": "ok",
     "timestamp": 1565033511764,
     "user": {
      "displayName": "Randy Geszvain",
      "photoUrl": "",
      "userId": "01626251001813095820"
     },
     "user_tz": 300
    },
    "id": "80y3pu7q_E1Q",
    "outputId": "d309b2ed-09eb-4c57-deb9-cf89361a8445"
   },
   "outputs": [
    {
     "data": {
      "text/plain": [
       "[Text(0, 0, 'alderaan_coffee_milwaukee'),\n",
       " Text(0, 0, 'anodyne_coffee_roasting_milwaukee_5'),\n",
       " Text(0, 0, 'coffeetails_milwaukee'),\n",
       " Text(0, 0, 'colectivo_coffee_milwaukee_5'),\n",
       " Text(0, 0, 'colectivo_coffee_us_bank_milwaukee'),\n",
       " Text(0, 0, 'dryhootch_coffeehouse_milwaukee'),\n",
       " Text(0, 0, 'grace_place_coffee_milwaukee'),\n",
       " Text(0, 0, 'holey_moley_coffee_doughnuts_milwaukee'),\n",
       " Text(0, 0, 'milwaukee_coffee_peddlers_milwaukee_2'),\n",
       " Text(0, 0, 'pilcrow_coffee_milwaukee_2'),\n",
       " Text(0, 0, 'rochambo_coffee_and_tea_house_milwaukee'),\n",
       " Text(0, 0, 'sojourner_mobile_coffee_milwaukee'),\n",
       " Text(0, 0, 'stone_creek_coffee_milwaukee_13'),\n",
       " Text(0, 0, 'stone_creek_coffee_milwaukee_14')]"
      ]
     },
     "execution_count": 81,
     "metadata": {},
     "output_type": "execute_result"
    },
    {
     "data": {
      "image/png": "[encoded data removed]",
      "text/plain": [
       "<Figure size 1152x720 with 1 Axes>"
      ]
     },
     "metadata": {
      "needs_background": "light"
     },
     "output_type": "display_data"
    }
   ],
   "source": [
    "plt.figure(figsize=(16, 10))\n",
    "ax = sns.barplot(data=VADER_avg)\n",
    "ax.set_xticklabels(ax.get_xticklabels(),rotation=30)"
   ]
  },
  {
   "cell_type": "code",
   "execution_count": 82,
   "metadata": {
    "colab": {},
    "colab_type": "code",
    "id": "ha91cjPPAc36"
   },
   "outputs": [],
   "source": [
    "sentences = pd.DataFrame(sentences)"
   ]
  },
  {
   "cell_type": "code",
   "execution_count": 83,
   "metadata": {
    "colab": {},
    "colab_type": "code",
    "id": "MIqWaTYVAfB9"
   },
   "outputs": [],
   "source": [
    "vader = sentences.set_index('date')"
   ]
  },
  {
   "cell_type": "code",
   "execution_count": 84,
   "metadata": {
    "colab": {},
    "colab_type": "code",
    "id": "ICEX3p4HCu9r"
   },
   "outputs": [],
   "source": [
    "vader_lavender = vader[vader['text'].str.contains(\"lavender\")]"
   ]
  },
  {
   "cell_type": "code",
   "execution_count": 85,
   "metadata": {},
   "outputs": [],
   "source": [
    "vader_lavender = vader_lavender[[\"name\",\"VADER score\"]]"
   ]
  },
  {
   "cell_type": "code",
   "execution_count": 86,
   "metadata": {},
   "outputs": [],
   "source": [
    "indexNames = vader_lavender[ vader_lavender['name'] == 'holey_moley_coffee_doughnuts_milwaukee' ].index\n",
    " \n",
    "# Delete these row indexes from dataFrame\n",
    "vader_lavender.drop(indexNames , inplace=True)"
   ]
  },
  {
   "cell_type": "code",
   "execution_count": 87,
   "metadata": {},
   "outputs": [],
   "source": [
    "vader_lavender['VADER score'] = round(((vader_lavender['VADER score']+1)/4)*10,1)"
   ]
  },
  {
   "cell_type": "code",
   "execution_count": 88,
   "metadata": {
    "scrolled": true
   },
   "outputs": [
    {
     "name": "stderr",
     "output_type": "stream",
     "text": [
      "/Users/randallgeszvain/anaconda3/lib/python3.7/site-packages/seaborn/categorical.py:3666: UserWarning: The `factorplot` function has been renamed to `catplot`. The original name will be removed in a future release. Please update your code. Note that the default `kind` in `factorplot` (`'point'`) has changed `'strip'` in `catplot`.\n",
      "  warnings.warn(msg)\n"
     ]
    },
    {
     "data": {
      "text/plain": [
       "<seaborn.axisgrid.FacetGrid at 0x7ffb44574908>"
      ]
     },
     "execution_count": 88,
     "metadata": {},
     "output_type": "execute_result"
    },
    {
     "data": {
      "text/plain": [
       "<Figure size 1152x720 with 0 Axes>"
      ]
     },
     "metadata": {},
     "output_type": "display_data"
    },
    {
     "data": {
      "image/png": "[encoded data removed]",
      "text/plain": [
       "<Figure size 360x360 with 1 Axes>"
      ]
     },
     "metadata": {
      "needs_background": "light"
     },
     "output_type": "display_data"
    }
   ],
   "source": [
    "# Factor Plot\n",
    "g = sns.factorplot(x='name', \n",
    "                   y='VADER score', \n",
    "                   data=vader_lavender, \n",
    "                   kind='swarm') # Swarmplot\n",
    " \n",
    "# Rotate x-axis labels\n",
    "g.set_xticklabels(rotation=30)\n",
    " \n",
    "# Doesn't work because only rotates last plot\n",
    "# plt.xticks(rotation=-45)"
   ]
  }
 ],
 "metadata": {
  "colab": {
   "collapsed_sections": [],
   "name": "Scrape_Yelp_Reviews.ipynb",
   "provenance": [],
   "version": "0.3.2"
  },
  "kernelspec": {
   "display_name": "Python 3",
   "language": "python",
   "name": "python3"
  },
  "language_info": {
   "codemirror_mode": {
    "name": "ipython",
    "version": 3
   },
   "file_extension": ".py",
   "mimetype": "text/x-python",
   "name": "python",
   "nbconvert_exporter": "python",
   "pygments_lexer": "ipython3",
   "version": "3.7.3"
  }
 },
 "nbformat": 4,
 "nbformat_minor": 1
}
