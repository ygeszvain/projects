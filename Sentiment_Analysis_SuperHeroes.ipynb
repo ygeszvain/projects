{
  "nbformat": 4,
  "nbformat_minor": 0,
  "metadata": {
    "colab": {
      "name": "Sentiment Analysis - SuperHeroes.ipynb",
      "version": "0.3.2",
      "provenance": [],
      "collapsed_sections": [],
      "include_colab_link": true
    },
    "kernelspec": {
      "name": "python3",
      "display_name": "Python 3"
    }
  },
  "cells": [
    {
      "cell_type": "markdown",
      "metadata": {
        "id": "view-in-github",
        "colab_type": "text"
      },
      "source": [
        "<a href=\"https://colab.research.google.com/github/ygeszvain/projects/blob/master/Sentiment_Analysis_SuperHeroes.ipynb\" target=\"_parent\"><img src=\"https://colab.research.google.com/assets/colab-badge.svg\" alt=\"Open In Colab\"/></a>"
      ]
    },
    {
      "cell_type": "code",
      "metadata": {
        "id": "_gg5bZ-4FvDN",
        "colab_type": "code",
        "colab": {
          "base_uri": "https://localhost:8080/",
          "height": 51
        },
        "outputId": "ea8159c0-bb18-4c7f-8b3b-3f492609593c"
      },
      "source": [
        "# importing libraries\n",
        "from bs4 import BeautifulSoup\n",
        "import requests\n",
        "import urllib.request\n",
        "from urllib.request import urlopen\n",
        "import re\n",
        "import time\n",
        "\n",
        "import pandas as pd #Importing the PANDAS python library\n",
        "import numpy as np #importing Numpy\n",
        "import seaborn as sns\n",
        "import matplotlib.pyplot as plt\n",
        "%matplotlib inline \n",
        "\n",
        "#from vaderSentiment.vaderSentiment import SentimentIntensityAnalyzer #initiating VADER instance\n",
        "\n",
        "import nltk\n",
        "nltk.download('vader_lexicon')\n",
        "from nltk.sentiment.vader import SentimentIntensityAnalyzer\n",
        "\n",
        "analyser = SentimentIntensityAnalyzer()"
      ],
      "execution_count": 47,
      "outputs": [
        {
          "output_type": "stream",
          "text": [
            "[nltk_data] Downloading package vader_lexicon to /root/nltk_data...\n",
            "[nltk_data]   Package vader_lexicon is already up-to-date!\n"
          ],
          "name": "stdout"
        }
      ]
    },
    {
      "cell_type": "code",
      "metadata": {
        "id": "PnKvTe7AJLs_",
        "colab_type": "code",
        "colab": {
          "base_uri": "https://localhost:8080/",
          "height": 68
        },
        "outputId": "05e33470-04ad-4826-e045-2f117996f216"
      },
      "source": [
        "AgeofUltron_rm = pd.read_csv(\"AgeofUltron_rm.csv\", index_col=0) \n",
        "%time   #to calulate the time it takes the algorithm to compute a VADER score\n",
        "\n",
        "i=0 #counter\n",
        "\n",
        "compval1 = [ ]  #empty list to hold our computed 'compound' VADER scores\n",
        "\n",
        "\n",
        "while (i<len(AgeofUltron_rm)):\n",
        "\n",
        "    k = analyser.polarity_scores(AgeofUltron_rm.iloc[i]['text'])\n",
        "    compval1.append(k['compound'])\n",
        "    \n",
        "    i = i+1\n",
        "    \n",
        "#converting sentiment values to numpy for easier usage\n",
        "\n",
        "compval1 = np.array(compval1)\n",
        "\n",
        "AgeofUltron_rm['VADER score'] = compval1"
      ],
      "execution_count": 3,
      "outputs": [
        {
          "output_type": "stream",
          "text": [
            "CPU times: user 2 µs, sys: 0 ns, total: 2 µs\n",
            "Wall time: 6.44 µs\n"
          ],
          "name": "stdout"
        },
        {
          "output_type": "execute_result",
          "data": {
            "text/plain": [
              "353"
            ]
          },
          "metadata": {
            "tags": []
          },
          "execution_count": 3
        }
      ]
    },
    {
      "cell_type": "code",
      "metadata": {
        "id": "djoyL193NwI9",
        "colab_type": "code",
        "colab": {
          "base_uri": "https://localhost:8080/",
          "height": 51
        },
        "outputId": "383c8452-bb9a-405d-da31-8ab89e27ea13"
      },
      "source": [
        "Antmanthewasp_rm = pd.read_csv(\"Antmanthewasp_rm.csv\", index_col=0) \n",
        "%time   #to calulate the time it takes the algorithm to compute a VADER score\n",
        "\n",
        "i=0 #counter\n",
        "\n",
        "compval1 = [ ]  #empty list to hold our computed 'compound' VADER scores\n",
        "\n",
        "\n",
        "while (i<len(Antmanthewasp_rm)):\n",
        "\n",
        "    k = analyser.polarity_scores(Antmanthewasp_rm.iloc[i]['text'])\n",
        "    compval1.append(k['compound'])\n",
        "    \n",
        "    i = i+1\n",
        "    \n",
        "#converting sentiment values to numpy for easier usage\n",
        "\n",
        "compval1 = np.array(compval1)\n",
        "\n",
        "Antmanthewasp_rm['VADER score'] = compval1"
      ],
      "execution_count": 9,
      "outputs": [
        {
          "output_type": "stream",
          "text": [
            "CPU times: user 3 µs, sys: 1e+03 ns, total: 4 µs\n",
            "Wall time: 7.87 µs\n"
          ],
          "name": "stdout"
        }
      ]
    },
    {
      "cell_type": "code",
      "metadata": {
        "id": "Trhpns2sOGIo",
        "colab_type": "code",
        "colab": {
          "base_uri": "https://localhost:8080/",
          "height": 51
        },
        "outputId": "b754c5e2-3d8f-4c51-b4c4-0169c3fb5cdb"
      },
      "source": [
        "Aquaman_rm = pd.read_csv(\"Aquaman_rm.csv\", index_col=0) \n",
        "%time   #to calulate the time it takes the algorithm to compute a VADER score\n",
        "\n",
        "i=0 #counter\n",
        "\n",
        "compval1 = [ ]  #empty list to hold our computed 'compound' VADER scores\n",
        "\n",
        "\n",
        "while (i<len(Aquaman_rm)):\n",
        "\n",
        "    k = analyser.polarity_scores(Aquaman_rm.iloc[i]['text'])\n",
        "    compval1.append(k['compound'])\n",
        "    \n",
        "    i = i+1\n",
        "    \n",
        "#converting sentiment values to numpy for easier usage\n",
        "\n",
        "compval1 = np.array(compval1)\n",
        "\n",
        "Aquaman_rm['VADER score'] = compval1"
      ],
      "execution_count": 14,
      "outputs": [
        {
          "output_type": "stream",
          "text": [
            "CPU times: user 3 µs, sys: 0 ns, total: 3 µs\n",
            "Wall time: 6.68 µs\n"
          ],
          "name": "stdout"
        }
      ]
    },
    {
      "cell_type": "code",
      "metadata": {
        "id": "QTM26V9SOMUr",
        "colab_type": "code",
        "colab": {
          "base_uri": "https://localhost:8080/",
          "height": 51
        },
        "outputId": "273a9103-8ff0-4b8b-a8e3-176dc3653c2c"
      },
      "source": [
        "AvengersEndgame_rm = pd.read_csv(\"AvengersEndgame_rm.csv\", index_col=0) \n",
        "%time   #to calulate the time it takes the algorithm to compute a VADER score\n",
        "\n",
        "i=0 #counter\n",
        "\n",
        "compval1 = [ ]  #empty list to hold our computed 'compound' VADER scores\n",
        "\n",
        "\n",
        "while (i<len(AvengersEndgame_rm)):\n",
        "\n",
        "    k = analyser.polarity_scores(AvengersEndgame_rm.iloc[i]['text'])\n",
        "    compval1.append(k['compound'])\n",
        "    \n",
        "    i = i+1\n",
        "    \n",
        "#converting sentiment values to numpy for easier usage\n",
        "\n",
        "compval1 = np.array(compval1)\n",
        "\n",
        "AvengersEndgame_rm['VADER score'] = compval1"
      ],
      "execution_count": 15,
      "outputs": [
        {
          "output_type": "stream",
          "text": [
            "CPU times: user 3 µs, sys: 0 ns, total: 3 µs\n",
            "Wall time: 8.11 µs\n"
          ],
          "name": "stdout"
        }
      ]
    },
    {
      "cell_type": "code",
      "metadata": {
        "id": "w2lH1hyhOP11",
        "colab_type": "code",
        "colab": {
          "base_uri": "https://localhost:8080/",
          "height": 51
        },
        "outputId": "4d22298c-08b7-42f8-b5c4-635c94a0a315"
      },
      "source": [
        "AvengersInfinityWar_rm = pd.read_csv(\"AvengersInfinityWar_rm.csv\", index_col=0) \n",
        "%time   #to calulate the time it takes the algorithm to compute a VADER score\n",
        "\n",
        "i=0 #counter\n",
        "\n",
        "compval1 = [ ]  #empty list to hold our computed 'compound' VADER scores\n",
        "\n",
        "\n",
        "while (i<len(AvengersInfinityWar_rm)):\n",
        "\n",
        "    k = analyser.polarity_scores(AvengersInfinityWar_rm.iloc[i]['text'])\n",
        "    compval1.append(k['compound'])\n",
        "    \n",
        "    i = i+1\n",
        "    \n",
        "#converting sentiment values to numpy for easier usage\n",
        "\n",
        "compval1 = np.array(compval1)\n",
        "\n",
        "AvengersInfinityWar_rm['VADER score'] = compval1"
      ],
      "execution_count": 16,
      "outputs": [
        {
          "output_type": "stream",
          "text": [
            "CPU times: user 3 µs, sys: 0 ns, total: 3 µs\n",
            "Wall time: 6.91 µs\n"
          ],
          "name": "stdout"
        }
      ]
    },
    {
      "cell_type": "code",
      "metadata": {
        "id": "nSfZwFuePyyQ",
        "colab_type": "code",
        "colab": {
          "base_uri": "https://localhost:8080/",
          "height": 51
        },
        "outputId": "c2636323-eee0-438f-b786-b000319ee350"
      },
      "source": [
        "BlackPanther_rm = pd.read_csv(\"BlackPanther_rm.csv\", index_col=0) \n",
        "%time   #to calulate the time it takes the algorithm to compute a VADER score\n",
        "\n",
        "i=0 #counter\n",
        "\n",
        "compval1 = [ ]  #empty list to hold our computed 'compound' VADER scores\n",
        "\n",
        "\n",
        "while (i<len(BlackPanther_rm)):\n",
        "\n",
        "    k = analyser.polarity_scores(BlackPanther_rm.iloc[i]['text'])\n",
        "    compval1.append(k['compound'])\n",
        "    \n",
        "    i = i+1\n",
        "    \n",
        "#converting sentiment values to numpy for easier usage\n",
        "\n",
        "compval1 = np.array(compval1)\n",
        "\n",
        "BlackPanther_rm['VADER score'] = compval1"
      ],
      "execution_count": 26,
      "outputs": [
        {
          "output_type": "stream",
          "text": [
            "CPU times: user 8 µs, sys: 1e+03 ns, total: 9 µs\n",
            "Wall time: 53.6 µs\n"
          ],
          "name": "stdout"
        }
      ]
    },
    {
      "cell_type": "code",
      "metadata": {
        "id": "xWg0e0X-P2NS",
        "colab_type": "code",
        "colab": {
          "base_uri": "https://localhost:8080/",
          "height": 51
        },
        "outputId": "83509c05-0357-41d6-de60-9a7dc1653668"
      },
      "source": [
        "CivilWar_rm = pd.read_csv(\"CivilWar_rm.csv\", index_col=0) \n",
        "%time   #to calulate the time it takes the algorithm to compute a VADER score\n",
        "\n",
        "i=0 #counter\n",
        "\n",
        "compval1 = [ ]  #empty list to hold our computed 'compound' VADER scores\n",
        "\n",
        "\n",
        "while (i<len(CivilWar_rm)):\n",
        "\n",
        "    k = analyser.polarity_scores(CivilWar_rm.iloc[i]['text'])\n",
        "    compval1.append(k['compound'])\n",
        "    \n",
        "    i = i+1\n",
        "    \n",
        "#converting sentiment values to numpy for easier usage\n",
        "\n",
        "compval1 = np.array(compval1)\n",
        "\n",
        "CivilWar_rm['VADER score'] = compval1"
      ],
      "execution_count": 27,
      "outputs": [
        {
          "output_type": "stream",
          "text": [
            "CPU times: user 2 µs, sys: 0 ns, total: 2 µs\n",
            "Wall time: 5.96 µs\n"
          ],
          "name": "stdout"
        }
      ]
    },
    {
      "cell_type": "code",
      "metadata": {
        "id": "DXZE7iWaP6WL",
        "colab_type": "code",
        "colab": {
          "base_uri": "https://localhost:8080/",
          "height": 51
        },
        "outputId": "24a7afb2-d4ef-43c0-dc87-114895be8dbf"
      },
      "source": [
        "DawnofJustice_rm = pd.read_csv(\"DawnofJustice_rm.csv\", index_col=0) \n",
        "%time   #to calulate the time it takes the algorithm to compute a VADER score\n",
        "\n",
        "i=0 #counter\n",
        "\n",
        "compval1 = [ ]  #empty list to hold our computed 'compound' VADER scores\n",
        "\n",
        "\n",
        "while (i<len(DawnofJustice_rm)):\n",
        "\n",
        "    k = analyser.polarity_scores(DawnofJustice_rm.iloc[i]['text'])\n",
        "    compval1.append(k['compound'])\n",
        "    \n",
        "    i = i+1\n",
        "    \n",
        "#converting sentiment values to numpy for easier usage\n",
        "\n",
        "compval1 = np.array(compval1)\n",
        "\n",
        "DawnofJustice_rm['VADER score'] = compval1"
      ],
      "execution_count": 28,
      "outputs": [
        {
          "output_type": "stream",
          "text": [
            "CPU times: user 4 µs, sys: 0 ns, total: 4 µs\n",
            "Wall time: 9.78 µs\n"
          ],
          "name": "stdout"
        }
      ]
    },
    {
      "cell_type": "code",
      "metadata": {
        "id": "dEKP84fZP-8-",
        "colab_type": "code",
        "colab": {
          "base_uri": "https://localhost:8080/",
          "height": 51
        },
        "outputId": "2e3a362b-3e0c-42a8-b875-2613be302b74"
      },
      "source": [
        "DoctorStrange_rm = pd.read_csv(\"DoctorStrange_rm.csv\", index_col=0) \n",
        "%time   #to calulate the time it takes the algorithm to compute a VADER score\n",
        "\n",
        "i=0 #counter\n",
        "\n",
        "compval1 = [ ]  #empty list to hold our computed 'compound' VADER scores\n",
        "\n",
        "\n",
        "while (i<len(DoctorStrange_rm)):\n",
        "\n",
        "    k = analyser.polarity_scores(DoctorStrange_rm.iloc[i]['text'])\n",
        "    compval1.append(k['compound'])\n",
        "    \n",
        "    i = i+1\n",
        "    \n",
        "#converting sentiment values to numpy for easier usage\n",
        "\n",
        "compval1 = np.array(compval1)\n",
        "\n",
        "DoctorStrange_rm['VADER score'] = compval1"
      ],
      "execution_count": 29,
      "outputs": [
        {
          "output_type": "stream",
          "text": [
            "CPU times: user 3 µs, sys: 0 ns, total: 3 µs\n",
            "Wall time: 6.68 µs\n"
          ],
          "name": "stdout"
        }
      ]
    },
    {
      "cell_type": "code",
      "metadata": {
        "id": "iMPA3eQbQDTF",
        "colab_type": "code",
        "colab": {
          "base_uri": "https://localhost:8080/",
          "height": 51
        },
        "outputId": "0bf13b9f-0a31-41f9-aae4-146729f57f96"
      },
      "source": [
        "JusticeLeague_rm = pd.read_csv(\"JusticeLeague_rm.csv\", index_col=0) \n",
        "%time   #to calulate the time it takes the algorithm to compute a VADER score\n",
        "\n",
        "i=0 #counter\n",
        "\n",
        "compval1 = [ ]  #empty list to hold our computed 'compound' VADER scores\n",
        "\n",
        "\n",
        "while (i<len(JusticeLeague_rm)):\n",
        "\n",
        "    k = analyser.polarity_scores(JusticeLeague_rm.iloc[i]['text'])\n",
        "    compval1.append(k['compound'])\n",
        "    \n",
        "    i = i+1\n",
        "    \n",
        "#converting sentiment values to numpy for easier usage\n",
        "\n",
        "compval1 = np.array(compval1)\n",
        "\n",
        "JusticeLeague_rm['VADER score'] = compval1"
      ],
      "execution_count": 30,
      "outputs": [
        {
          "output_type": "stream",
          "text": [
            "CPU times: user 3 µs, sys: 1 µs, total: 4 µs\n",
            "Wall time: 8.58 µs\n"
          ],
          "name": "stdout"
        }
      ]
    },
    {
      "cell_type": "code",
      "metadata": {
        "id": "b0QXMO3OQHAB",
        "colab_type": "code",
        "colab": {
          "base_uri": "https://localhost:8080/",
          "height": 51
        },
        "outputId": "787079e2-ce58-434a-dd10-1f45b1b5c019"
      },
      "source": [
        "SpidermanHomecoming_rm = pd.read_csv(\"SpidermanHomecoming_rm.csv\", index_col=0) \n",
        "%time   #to calulate the time it takes the algorithm to compute a VADER score\n",
        "\n",
        "i=0 #counter\n",
        "\n",
        "compval1 = [ ]  #empty list to hold our computed 'compound' VADER scores\n",
        "\n",
        "\n",
        "while (i<len(SpidermanHomecoming_rm)):\n",
        "\n",
        "    k = analyser.polarity_scores(SpidermanHomecoming_rm.iloc[i]['text'])\n",
        "    compval1.append(k['compound'])\n",
        "    \n",
        "    i = i+1\n",
        "    \n",
        "#converting sentiment values to numpy for easier usage\n",
        "\n",
        "compval1 = np.array(compval1)\n",
        "\n",
        "SpidermanHomecoming_rm['VADER score'] = compval1"
      ],
      "execution_count": 31,
      "outputs": [
        {
          "output_type": "stream",
          "text": [
            "CPU times: user 3 µs, sys: 1 µs, total: 4 µs\n",
            "Wall time: 9.06 µs\n"
          ],
          "name": "stdout"
        }
      ]
    },
    {
      "cell_type": "code",
      "metadata": {
        "id": "ApFBGXfqQKVE",
        "colab_type": "code",
        "colab": {
          "base_uri": "https://localhost:8080/",
          "height": 51
        },
        "outputId": "14998699-bbed-4135-ed4b-30623f0bf240"
      },
      "source": [
        "TheForceAwakens_rm = pd.read_csv(\"TheForceAwakens_rm.csv\", index_col=0) \n",
        "%time   #to calulate the time it takes the algorithm to compute a VADER score\n",
        "\n",
        "i=0 #counter\n",
        "\n",
        "compval1 = [ ]  #empty list to hold our computed 'compound' VADER scores\n",
        "\n",
        "\n",
        "while (i<len(TheForceAwakens_rm)):\n",
        "\n",
        "    k = analyser.polarity_scores(TheForceAwakens_rm.iloc[i]['text'])\n",
        "    compval1.append(k['compound'])\n",
        "    \n",
        "    i = i+1\n",
        "    \n",
        "#converting sentiment values to numpy for easier usage\n",
        "\n",
        "compval1 = np.array(compval1)\n",
        "\n",
        "TheForceAwakens_rm['VADER score'] = compval1"
      ],
      "execution_count": 32,
      "outputs": [
        {
          "output_type": "stream",
          "text": [
            "CPU times: user 3 µs, sys: 0 ns, total: 3 µs\n",
            "Wall time: 6.91 µs\n"
          ],
          "name": "stdout"
        }
      ]
    },
    {
      "cell_type": "code",
      "metadata": {
        "id": "ymgTZT8jQPZO",
        "colab_type": "code",
        "colab": {
          "base_uri": "https://localhost:8080/",
          "height": 51
        },
        "outputId": "72ca94f7-82b7-410b-8036-0daf13505d03"
      },
      "source": [
        "TheLastJedi_rm = pd.read_csv(\"TheLastJedi_rm.csv\", index_col=0) \n",
        "%time   #to calulate the time it takes the algorithm to compute a VADER score\n",
        "\n",
        "i=0 #counter\n",
        "\n",
        "compval1 = [ ]  #empty list to hold our computed 'compound' VADER scores\n",
        "\n",
        "\n",
        "while (i<len(TheLastJedi_rm)):\n",
        "\n",
        "    k = analyser.polarity_scores(TheLastJedi_rm.iloc[i]['text'])\n",
        "    compval1.append(k['compound'])\n",
        "    \n",
        "    i = i+1\n",
        "    \n",
        "#converting sentiment values to numpy for easier usage\n",
        "\n",
        "compval1 = np.array(compval1)\n",
        "\n",
        "TheLastJedi_rm['VADER score'] = compval1"
      ],
      "execution_count": 33,
      "outputs": [
        {
          "output_type": "stream",
          "text": [
            "CPU times: user 4 µs, sys: 1 µs, total: 5 µs\n",
            "Wall time: 9.54 µs\n"
          ],
          "name": "stdout"
        }
      ]
    },
    {
      "cell_type": "code",
      "metadata": {
        "id": "5ZdXtVIaQTMK",
        "colab_type": "code",
        "colab": {
          "base_uri": "https://localhost:8080/",
          "height": 51
        },
        "outputId": "3c761d18-84be-4d08-ab9c-49d9cd4d3636"
      },
      "source": [
        "ThorRagnarok_rm = pd.read_csv(\"ThorRagnarok_rm.csv\", index_col=0) \n",
        "%time   #to calulate the time it takes the algorithm to compute a VADER score\n",
        "\n",
        "i=0 #counter\n",
        "\n",
        "compval1 = [ ]  #empty list to hold our computed 'compound' VADER scores\n",
        "\n",
        "\n",
        "while (i<len(ThorRagnarok_rm)):\n",
        "\n",
        "    k = analyser.polarity_scores(ThorRagnarok_rm.iloc[i]['text'])\n",
        "    compval1.append(k['compound'])\n",
        "    \n",
        "    i = i+1\n",
        "    \n",
        "#converting sentiment values to numpy for easier usage\n",
        "\n",
        "compval1 = np.array(compval1)\n",
        "\n",
        "ThorRagnarok_rm['VADER score'] = compval1"
      ],
      "execution_count": 34,
      "outputs": [
        {
          "output_type": "stream",
          "text": [
            "CPU times: user 3 µs, sys: 0 ns, total: 3 µs\n",
            "Wall time: 7.15 µs\n"
          ],
          "name": "stdout"
        }
      ]
    },
    {
      "cell_type": "code",
      "metadata": {
        "id": "k3-T8tHDQbQn",
        "colab_type": "code",
        "colab": {
          "base_uri": "https://localhost:8080/",
          "height": 51
        },
        "outputId": "6f41f590-8855-48f7-a480-50165d55b46c"
      },
      "source": [
        "WonderWoman_rm = pd.read_csv(\"WonderWoman_rm.csv\", index_col=0) \n",
        "%time   #to calulate the time it takes the algorithm to compute a VADER score\n",
        "\n",
        "i=0 #counter\n",
        "\n",
        "compval1 = [ ]  #empty list to hold our computed 'compound' VADER scores\n",
        "\n",
        "\n",
        "while (i<len(WonderWoman_rm)):\n",
        "\n",
        "    k = analyser.polarity_scores(WonderWoman_rm.iloc[i]['text'])\n",
        "    compval1.append(k['compound'])\n",
        "    \n",
        "    i = i+1\n",
        "    \n",
        "#converting sentiment values to numpy for easier usage\n",
        "\n",
        "compval1 = np.array(compval1)\n",
        "\n",
        "WonderWoman_rm['VADER score'] = compval1"
      ],
      "execution_count": 35,
      "outputs": [
        {
          "output_type": "stream",
          "text": [
            "CPU times: user 3 µs, sys: 1 µs, total: 4 µs\n",
            "Wall time: 7.15 µs\n"
          ],
          "name": "stdout"
        }
      ]
    },
    {
      "cell_type": "code",
      "metadata": {
        "id": "PRnlqCPrPXKl",
        "colab_type": "code",
        "colab": {}
      },
      "source": [
        "VADER = pd.DataFrame()"
      ],
      "execution_count": 0,
      "outputs": []
    },
    {
      "cell_type": "code",
      "metadata": {
        "id": "hc0cFRV-PUI3",
        "colab_type": "code",
        "colab": {}
      },
      "source": [
        "VADER = pd.concat([AgeofUltron_rm['VADER score'],Antmanthewasp_rm['VADER score'],Aquaman_rm['VADER score'],AvengersEndgame_rm['VADER score'],AvengersInfinityWar_rm['VADER score'],BlackPanther_rm['VADER score'],CivilWar_rm['VADER score'],DawnofJustice_rm['VADER score'],DoctorStrange_rm['VADER score'],JusticeLeague_rm['VADER score'],\n",
        "\n",
        "SpidermanHomecoming_rm['VADER score'],TheForceAwakens_rm['VADER score'],TheLastJedi_rm['VADER score'],ThorRagnarok_rm['VADER score'],WonderWoman_rm['VADER score']], ignore_index=True, axis=1)"
      ],
      "execution_count": 0,
      "outputs": []
    },
    {
      "cell_type": "code",
      "metadata": {
        "id": "dk97hcisRFZ0",
        "colab_type": "code",
        "colab": {}
      },
      "source": [
        "VADER.columns = ['Age of Ultron', 'Antman the wasp','Aquaman','Avengers Endgame','Avengers Infinity War','Black Panther','Civil War','Dawn of Justice','Doctor Strange','Justice League','Spiderman Homecoming','The Force Awakens','The Last Jedi','Thor Ragnarok','Wonder Woman']"
      ],
      "execution_count": 0,
      "outputs": []
    },
    {
      "cell_type": "code",
      "metadata": {
        "id": "fEvxUyv1TU-9",
        "colab_type": "code",
        "colab": {
          "base_uri": "https://localhost:8080/",
          "height": 411
        },
        "outputId": "cfe2f645-94f3-4e4e-cfb2-6006f157988a"
      },
      "source": [
        "VADER.describe()"
      ],
      "execution_count": 50,
      "outputs": [
        {
          "output_type": "execute_result",
          "data": {
            "text/html": [
              "<div>\n",
              "<style scoped>\n",
              "    .dataframe tbody tr th:only-of-type {\n",
              "        vertical-align: middle;\n",
              "    }\n",
              "\n",
              "    .dataframe tbody tr th {\n",
              "        vertical-align: top;\n",
              "    }\n",
              "\n",
              "    .dataframe thead th {\n",
              "        text-align: right;\n",
              "    }\n",
              "</style>\n",
              "<table border=\"1\" class=\"dataframe\">\n",
              "  <thead>\n",
              "    <tr style=\"text-align: right;\">\n",
              "      <th></th>\n",
              "      <th>Age of Ultron</th>\n",
              "      <th>Antman the wasp</th>\n",
              "      <th>Aquaman</th>\n",
              "      <th>Avengers Endgame</th>\n",
              "      <th>Avengers Infinity War</th>\n",
              "      <th>Black Panther</th>\n",
              "      <th>Civil War</th>\n",
              "      <th>Dawn of Justice</th>\n",
              "      <th>Doctor Strange</th>\n",
              "      <th>Justice League</th>\n",
              "      <th>Spiderman Homecoming</th>\n",
              "      <th>The Force Awakens</th>\n",
              "      <th>The Last Jedi</th>\n",
              "      <th>Thor Ragnarok</th>\n",
              "      <th>Wonder Woman</th>\n",
              "    </tr>\n",
              "  </thead>\n",
              "  <tbody>\n",
              "    <tr>\n",
              "      <th>count</th>\n",
              "      <td>353.000000</td>\n",
              "      <td>390.000000</td>\n",
              "      <td>360.000000</td>\n",
              "      <td>450.000000</td>\n",
              "      <td>430.000000</td>\n",
              "      <td>460.000000</td>\n",
              "      <td>390.000000</td>\n",
              "      <td>410.000000</td>\n",
              "      <td>340.000000</td>\n",
              "      <td>360.000000</td>\n",
              "      <td>360.000000</td>\n",
              "      <td>410.000000</td>\n",
              "      <td>430.000000</td>\n",
              "      <td>380.000000</td>\n",
              "      <td>420.000000</td>\n",
              "    </tr>\n",
              "    <tr>\n",
              "      <th>mean</th>\n",
              "      <td>0.325920</td>\n",
              "      <td>0.483780</td>\n",
              "      <td>0.323176</td>\n",
              "      <td>0.464424</td>\n",
              "      <td>0.155448</td>\n",
              "      <td>0.441759</td>\n",
              "      <td>0.267807</td>\n",
              "      <td>0.090210</td>\n",
              "      <td>0.379982</td>\n",
              "      <td>0.304520</td>\n",
              "      <td>0.470029</td>\n",
              "      <td>0.343998</td>\n",
              "      <td>0.271214</td>\n",
              "      <td>0.461304</td>\n",
              "      <td>0.460269</td>\n",
              "    </tr>\n",
              "    <tr>\n",
              "      <th>std</th>\n",
              "      <td>0.448999</td>\n",
              "      <td>0.410271</td>\n",
              "      <td>0.461965</td>\n",
              "      <td>0.404884</td>\n",
              "      <td>0.521243</td>\n",
              "      <td>0.444824</td>\n",
              "      <td>0.519864</td>\n",
              "      <td>0.520786</td>\n",
              "      <td>0.426199</td>\n",
              "      <td>0.508811</td>\n",
              "      <td>0.429231</td>\n",
              "      <td>0.448965</td>\n",
              "      <td>0.481831</td>\n",
              "      <td>0.400225</td>\n",
              "      <td>0.455008</td>\n",
              "    </tr>\n",
              "    <tr>\n",
              "      <th>min</th>\n",
              "      <td>-0.888500</td>\n",
              "      <td>-0.778300</td>\n",
              "      <td>-0.905200</td>\n",
              "      <td>-0.971500</td>\n",
              "      <td>-0.956600</td>\n",
              "      <td>-0.936600</td>\n",
              "      <td>-0.938200</td>\n",
              "      <td>-0.957200</td>\n",
              "      <td>-0.900100</td>\n",
              "      <td>-0.942400</td>\n",
              "      <td>-0.844200</td>\n",
              "      <td>-0.914000</td>\n",
              "      <td>-0.902200</td>\n",
              "      <td>-0.844200</td>\n",
              "      <td>-0.931300</td>\n",
              "    </tr>\n",
              "    <tr>\n",
              "      <th>25%</th>\n",
              "      <td>0.000000</td>\n",
              "      <td>0.296000</td>\n",
              "      <td>0.000000</td>\n",
              "      <td>0.177900</td>\n",
              "      <td>-0.261700</td>\n",
              "      <td>0.112675</td>\n",
              "      <td>-0.088075</td>\n",
              "      <td>-0.337275</td>\n",
              "      <td>0.035475</td>\n",
              "      <td>-0.028775</td>\n",
              "      <td>0.176550</td>\n",
              "      <td>0.000000</td>\n",
              "      <td>-0.024825</td>\n",
              "      <td>0.260900</td>\n",
              "      <td>0.153100</td>\n",
              "    </tr>\n",
              "    <tr>\n",
              "      <th>50%</th>\n",
              "      <td>0.421500</td>\n",
              "      <td>0.600800</td>\n",
              "      <td>0.411000</td>\n",
              "      <td>0.571900</td>\n",
              "      <td>0.202300</td>\n",
              "      <td>0.594150</td>\n",
              "      <td>0.421500</td>\n",
              "      <td>0.078100</td>\n",
              "      <td>0.475700</td>\n",
              "      <td>0.471300</td>\n",
              "      <td>0.636900</td>\n",
              "      <td>0.440400</td>\n",
              "      <td>0.361200</td>\n",
              "      <td>0.567250</td>\n",
              "      <td>0.630900</td>\n",
              "    </tr>\n",
              "    <tr>\n",
              "      <th>75%</th>\n",
              "      <td>0.709600</td>\n",
              "      <td>0.806050</td>\n",
              "      <td>0.728950</td>\n",
              "      <td>0.784500</td>\n",
              "      <td>0.609150</td>\n",
              "      <td>0.796400</td>\n",
              "      <td>0.718400</td>\n",
              "      <td>0.526700</td>\n",
              "      <td>0.728825</td>\n",
              "      <td>0.746100</td>\n",
              "      <td>0.813600</td>\n",
              "      <td>0.709600</td>\n",
              "      <td>0.680800</td>\n",
              "      <td>0.778400</td>\n",
              "      <td>0.817600</td>\n",
              "    </tr>\n",
              "    <tr>\n",
              "      <th>max</th>\n",
              "      <td>0.951100</td>\n",
              "      <td>0.983900</td>\n",
              "      <td>0.959000</td>\n",
              "      <td>0.968600</td>\n",
              "      <td>0.950100</td>\n",
              "      <td>0.971600</td>\n",
              "      <td>0.965200</td>\n",
              "      <td>0.945100</td>\n",
              "      <td>0.957700</td>\n",
              "      <td>0.966600</td>\n",
              "      <td>0.966200</td>\n",
              "      <td>0.969500</td>\n",
              "      <td>0.962200</td>\n",
              "      <td>0.967600</td>\n",
              "      <td>0.987700</td>\n",
              "    </tr>\n",
              "  </tbody>\n",
              "</table>\n",
              "</div>"
            ],
            "text/plain": [
              "       Age of Ultron  Antman the wasp  ...  Thor Ragnarok  Wonder Woman\n",
              "count     353.000000       390.000000  ...     380.000000    420.000000\n",
              "mean        0.325920         0.483780  ...       0.461304      0.460269\n",
              "std         0.448999         0.410271  ...       0.400225      0.455008\n",
              "min        -0.888500        -0.778300  ...      -0.844200     -0.931300\n",
              "25%         0.000000         0.296000  ...       0.260900      0.153100\n",
              "50%         0.421500         0.600800  ...       0.567250      0.630900\n",
              "75%         0.709600         0.806050  ...       0.778400      0.817600\n",
              "max         0.951100         0.983900  ...       0.967600      0.987700\n",
              "\n",
              "[8 rows x 15 columns]"
            ]
          },
          "metadata": {
            "tags": []
          },
          "execution_count": 50
        }
      ]
    },
    {
      "cell_type": "code",
      "metadata": {
        "id": "UyD3iKd-NZeZ",
        "colab_type": "code",
        "colab": {
          "base_uri": "https://localhost:8080/",
          "height": 749
        },
        "outputId": "13cbd70f-648e-4eb8-a36c-9fffaf0197b6"
      },
      "source": [
        "plt.figure(figsize=(15,10))\n",
        "ax = sns.boxplot(data=VADER)\n",
        "ax.set_xticklabels(ax.get_xticklabels(), rotation=40, ha=\"right\")\n",
        "plt.tight_layout()\n",
        "plt.show()"
      ],
      "execution_count": 56,
      "outputs": [
        {
          "output_type": "display_data",
          "data": {
            "image/png": "[encoded data removed]",
            "text/plain": [
              "<Figure size 1080x720 with 1 Axes>"
            ]
          },
          "metadata": {
            "tags": []
          }
        }
      ]
    },
    {
      "cell_type": "code",
      "metadata": {
        "id": "BKnnH3W9hFgu",
        "colab_type": "code",
        "colab": {
          "base_uri": "https://localhost:8080/",
          "height": 514
        },
        "outputId": "91aa30da-d472-4125-e911-65088213115e"
      },
      "source": [
        "VADER_mean = VADER.mean()\n",
        "VADER_data = pd.DataFrame(VADER_mean)\n",
        "VADER_data = VADER_data.reset_index()\n",
        "VADER_data.columns = ['Title','Vader_avg']\n",
        "VADER_data"
      ],
      "execution_count": 167,
      "outputs": [
        {
          "output_type": "execute_result",
          "data": {
            "text/html": [
              "<div>\n",
              "<style scoped>\n",
              "    .dataframe tbody tr th:only-of-type {\n",
              "        vertical-align: middle;\n",
              "    }\n",
              "\n",
              "    .dataframe tbody tr th {\n",
              "        vertical-align: top;\n",
              "    }\n",
              "\n",
              "    .dataframe thead th {\n",
              "        text-align: right;\n",
              "    }\n",
              "</style>\n",
              "<table border=\"1\" class=\"dataframe\">\n",
              "  <thead>\n",
              "    <tr style=\"text-align: right;\">\n",
              "      <th></th>\n",
              "      <th>Title</th>\n",
              "      <th>Vader_avg</th>\n",
              "    </tr>\n",
              "  </thead>\n",
              "  <tbody>\n",
              "    <tr>\n",
              "      <th>0</th>\n",
              "      <td>Age of Ultron</td>\n",
              "      <td>0.325920</td>\n",
              "    </tr>\n",
              "    <tr>\n",
              "      <th>1</th>\n",
              "      <td>Antman the wasp</td>\n",
              "      <td>0.483780</td>\n",
              "    </tr>\n",
              "    <tr>\n",
              "      <th>2</th>\n",
              "      <td>Aquaman</td>\n",
              "      <td>0.323176</td>\n",
              "    </tr>\n",
              "    <tr>\n",
              "      <th>3</th>\n",
              "      <td>Avengers Endgame</td>\n",
              "      <td>0.464424</td>\n",
              "    </tr>\n",
              "    <tr>\n",
              "      <th>4</th>\n",
              "      <td>Avengers Infinity War</td>\n",
              "      <td>0.155448</td>\n",
              "    </tr>\n",
              "    <tr>\n",
              "      <th>5</th>\n",
              "      <td>Black Panther</td>\n",
              "      <td>0.441759</td>\n",
              "    </tr>\n",
              "    <tr>\n",
              "      <th>6</th>\n",
              "      <td>Civil War</td>\n",
              "      <td>0.267807</td>\n",
              "    </tr>\n",
              "    <tr>\n",
              "      <th>7</th>\n",
              "      <td>Dawn of Justice</td>\n",
              "      <td>0.090210</td>\n",
              "    </tr>\n",
              "    <tr>\n",
              "      <th>8</th>\n",
              "      <td>Doctor Strange</td>\n",
              "      <td>0.379982</td>\n",
              "    </tr>\n",
              "    <tr>\n",
              "      <th>9</th>\n",
              "      <td>Justice League</td>\n",
              "      <td>0.304520</td>\n",
              "    </tr>\n",
              "    <tr>\n",
              "      <th>10</th>\n",
              "      <td>Spiderman Homecoming</td>\n",
              "      <td>0.470029</td>\n",
              "    </tr>\n",
              "    <tr>\n",
              "      <th>11</th>\n",
              "      <td>The Force Awakens</td>\n",
              "      <td>0.343998</td>\n",
              "    </tr>\n",
              "    <tr>\n",
              "      <th>12</th>\n",
              "      <td>The Last Jedi</td>\n",
              "      <td>0.271214</td>\n",
              "    </tr>\n",
              "    <tr>\n",
              "      <th>13</th>\n",
              "      <td>Thor Ragnarok</td>\n",
              "      <td>0.461304</td>\n",
              "    </tr>\n",
              "    <tr>\n",
              "      <th>14</th>\n",
              "      <td>Wonder Woman</td>\n",
              "      <td>0.460269</td>\n",
              "    </tr>\n",
              "  </tbody>\n",
              "</table>\n",
              "</div>"
            ],
            "text/plain": [
              "                    Title  Vader_avg\n",
              "0           Age of Ultron   0.325920\n",
              "1         Antman the wasp   0.483780\n",
              "2                 Aquaman   0.323176\n",
              "3        Avengers Endgame   0.464424\n",
              "4   Avengers Infinity War   0.155448\n",
              "5           Black Panther   0.441759\n",
              "6               Civil War   0.267807\n",
              "7         Dawn of Justice   0.090210\n",
              "8          Doctor Strange   0.379982\n",
              "9          Justice League   0.304520\n",
              "10   Spiderman Homecoming   0.470029\n",
              "11      The Force Awakens   0.343998\n",
              "12          The Last Jedi   0.271214\n",
              "13          Thor Ragnarok   0.461304\n",
              "14           Wonder Woman   0.460269"
            ]
          },
          "metadata": {
            "tags": []
          },
          "execution_count": 167
        }
      ]
    },
    {
      "cell_type": "code",
      "metadata": {
        "id": "GkdeiXDqepPn",
        "colab_type": "code",
        "colab": {}
      },
      "source": [
        "boxoffice = pd.read_csv(\"boxoffice.csv\", index_col=0) "
      ],
      "execution_count": 0,
      "outputs": []
    },
    {
      "cell_type": "code",
      "metadata": {
        "id": "gMhzvwmbfe1P",
        "colab_type": "code",
        "colab": {
          "base_uri": "https://localhost:8080/",
          "height": 204
        },
        "outputId": "229d8d85-4f89-405f-a51d-a721979b8dd5"
      },
      "source": [
        "boxoffice = boxoffice.reset_index()\n",
        "boxoffice.head()"
      ],
      "execution_count": 169,
      "outputs": [
        {
          "output_type": "execute_result",
          "data": {
            "text/html": [
              "<div>\n",
              "<style scoped>\n",
              "    .dataframe tbody tr th:only-of-type {\n",
              "        vertical-align: middle;\n",
              "    }\n",
              "\n",
              "    .dataframe tbody tr th {\n",
              "        vertical-align: top;\n",
              "    }\n",
              "\n",
              "    .dataframe thead th {\n",
              "        text-align: right;\n",
              "    }\n",
              "</style>\n",
              "<table border=\"1\" class=\"dataframe\">\n",
              "  <thead>\n",
              "    <tr style=\"text-align: right;\">\n",
              "      <th></th>\n",
              "      <th>Title</th>\n",
              "      <th>Studio</th>\n",
              "      <th>Lifetime Gross</th>\n",
              "      <th>Opening</th>\n",
              "      <th>Date</th>\n",
              "    </tr>\n",
              "  </thead>\n",
              "  <tbody>\n",
              "    <tr>\n",
              "      <th>0</th>\n",
              "      <td>Avengers: Endgame</td>\n",
              "      <td>BV</td>\n",
              "      <td>803631736</td>\n",
              "      <td>357115007.0</td>\n",
              "      <td>4/26/19</td>\n",
              "    </tr>\n",
              "    <tr>\n",
              "      <th>1</th>\n",
              "      <td>Hellboy (2019)</td>\n",
              "      <td>LG/S</td>\n",
              "      <td>21903748</td>\n",
              "      <td>12045147.0</td>\n",
              "      <td>4/12/19</td>\n",
              "    </tr>\n",
              "    <tr>\n",
              "      <th>2</th>\n",
              "      <td>Shazam!</td>\n",
              "      <td>WB (NL)</td>\n",
              "      <td>138588556</td>\n",
              "      <td>53505326.0</td>\n",
              "      <td>4/5/19</td>\n",
              "    </tr>\n",
              "    <tr>\n",
              "      <th>3</th>\n",
              "      <td>Captain Marvel</td>\n",
              "      <td>BV</td>\n",
              "      <td>425868352</td>\n",
              "      <td>153433423.0</td>\n",
              "      <td>3/8/19</td>\n",
              "    </tr>\n",
              "    <tr>\n",
              "      <th>4</th>\n",
              "      <td>Aquaman</td>\n",
              "      <td>WB</td>\n",
              "      <td>335061807</td>\n",
              "      <td>67873522.0</td>\n",
              "      <td>12/21/18</td>\n",
              "    </tr>\n",
              "  </tbody>\n",
              "</table>\n",
              "</div>"
            ],
            "text/plain": [
              "               Title   Studio  Lifetime Gross      Opening      Date\n",
              "0  Avengers: Endgame       BV       803631736  357115007.0   4/26/19\n",
              "1     Hellboy (2019)     LG/S        21903748   12045147.0   4/12/19\n",
              "2            Shazam!  WB (NL)       138588556   53505326.0    4/5/19\n",
              "3     Captain Marvel       BV       425868352  153433423.0    3/8/19\n",
              "4            Aquaman       WB       335061807   67873522.0  12/21/18"
            ]
          },
          "metadata": {
            "tags": []
          },
          "execution_count": 169
        }
      ]
    },
    {
      "cell_type": "code",
      "metadata": {
        "id": "wXeN60Vikwq8",
        "colab_type": "code",
        "colab": {}
      },
      "source": [
        "boxoffice = boxoffice.replace(':','', regex=True)\n",
        "boxoffice = boxoffice.replace('!','', regex=True)\n",
        "boxoffice = boxoffice.replace('-','', regex=True)"
      ],
      "execution_count": 0,
      "outputs": []
    },
    {
      "cell_type": "code",
      "metadata": {
        "id": "UpSD12i9iaVc",
        "colab_type": "code",
        "colab": {}
      },
      "source": [
        "# Algorithm to match strings\n",
        "import numpy as np\n",
        "def levenshtein_ratio_and_distance(s, t, ratio_calc = False):\n",
        "    \"\"\" levenshtein_ratio_and_distance:\n",
        "        Calculates levenshtein distance between two strings.\n",
        "        If ratio_calc = True, the function computes the\n",
        "        levenshtein distance ratio of similarity between two strings\n",
        "        For all i and j, distance[i,j] will contain the Levenshtein\n",
        "        distance between the first i characters of s and the\n",
        "        first j characters of t\n",
        "    \"\"\"\n",
        "    # Initialize matrix of zeros\n",
        "    rows = len(s)+1\n",
        "    cols = len(t)+1\n",
        "    distance = np.zeros((rows,cols),dtype = int)\n",
        "\n",
        "    # Populate matrix of zeros with the indeces of each character of both strings\n",
        "    for i in range(1, rows):\n",
        "        for k in range(1,cols):\n",
        "            distance[i][0] = i\n",
        "            distance[0][k] = k\n",
        "\n",
        "    # Iterate over the matrix to compute the cost of deletions,insertions and/or substitutions    \n",
        "    for col in range(1, cols):\n",
        "        for row in range(1, rows):\n",
        "            if s[row-1] == t[col-1]:\n",
        "                cost = 0 # If the characters are the same in the two strings in a given position [i,j] then the cost is 0\n",
        "            else:\n",
        "                # In order to align the results with those of the Python Levenshtein package, if we choose to calculate the ratio\n",
        "                # the cost of a substitution is 2. If we calculate just distance, then the cost of a substitution is 1.\n",
        "                if ratio_calc == True:\n",
        "                    cost = 2\n",
        "                else:\n",
        "                    cost = 1\n",
        "            distance[row][col] = min(distance[row-1][col] + 1,      # Cost of deletions\n",
        "                                 distance[row][col-1] + 1,          # Cost of insertions\n",
        "                                 distance[row-1][col-1] + cost)     # Cost of substitutions\n",
        "    if ratio_calc == True:\n",
        "        # Computation of the Levenshtein Distance Ratio\n",
        "        Ratio = ((len(s)+len(t)) - distance[row][col]) / (len(s)+len(t))\n",
        "        return Ratio\n",
        "    else:\n",
        "        # print(distance) # Uncomment if you want to see the matrix showing how the algorithm computes the cost of deletions,\n",
        "        # insertions and/or substitutions\n",
        "        # This is the minimum number of edits needed to convert string a to string b\n",
        "        #return \"The strings are {} edits away\".format(distance[row][col])\n",
        "        return distance[row][col]"
      ],
      "execution_count": 0,
      "outputs": []
    },
    {
      "cell_type": "code",
      "metadata": {
        "id": "wcct9c5eicOZ",
        "colab_type": "code",
        "colab": {
          "base_uri": "https://localhost:8080/",
          "height": 68
        },
        "outputId": "aa5eb9ad-196c-41ab-c728-39899df41a93"
      },
      "source": [
        "# create a dictionary base on string matching algorithm\n",
        "matches1 = {}\n",
        "boxoffice_movie = boxoffice['Title'].values\n",
        "print(len(boxoffice_movie))\n",
        "\n",
        "vader_avg = VADER_data['Title'].values\n",
        "print(len(vader_avg))\n",
        "\n",
        "for elm in vader_avg:\n",
        "    for el in boxoffice_movie:\n",
        "        if levenshtein_ratio_and_distance(elm, el, ratio_calc=True) > 0.65:\n",
        "            matches1[elm] = el\n",
        "\n",
        "print(len(matches1))"
      ],
      "execution_count": 172,
      "outputs": [
        {
          "output_type": "stream",
          "text": [
            "100\n",
            "15\n",
            "11\n"
          ],
          "name": "stdout"
        }
      ]
    },
    {
      "cell_type": "code",
      "metadata": {
        "id": "3QahEPhljtEZ",
        "colab_type": "code",
        "colab": {
          "base_uri": "https://localhost:8080/",
          "height": 74
        },
        "outputId": "440f853d-1d33-4134-d36e-685e5a3e6761"
      },
      "source": [
        "print(matches1)"
      ],
      "execution_count": 173,
      "outputs": [
        {
          "output_type": "stream",
          "text": [
            "{'Age of Ultron': 'Avengers Age of Ultron', 'Antman the wasp': 'AntMan and the Wasp', 'Aquaman': 'Aquaman', 'Avengers Endgame': 'Avengers Endgame', 'Avengers Infinity War': 'Avengers Infinity War', 'Black Panther': 'Black Panther', 'Doctor Strange': 'Doctor Strange', 'Justice League': 'Justice League', 'Spiderman Homecoming': 'SpiderMan Homecoming', 'Thor Ragnarok': 'Thor Ragnarok', 'Wonder Woman': 'Wonder Woman'}\n"
          ],
          "name": "stdout"
        }
      ]
    },
    {
      "cell_type": "code",
      "metadata": {
        "id": "oe7V4tn1j8E4",
        "colab_type": "code",
        "colab": {}
      },
      "source": [
        "# match up the strings\n",
        "VADER_data[\"Title\"] = VADER_data[\"Title\"].map(matches1)"
      ],
      "execution_count": 0,
      "outputs": []
    },
    {
      "cell_type": "code",
      "metadata": {
        "id": "RTyv9_TfkPt5",
        "colab_type": "code",
        "colab": {
          "base_uri": "https://localhost:8080/",
          "height": 514
        },
        "outputId": "7059c0f6-6065-4b88-f420-bd9ec528aa4a"
      },
      "source": [
        "VADER_data"
      ],
      "execution_count": 175,
      "outputs": [
        {
          "output_type": "execute_result",
          "data": {
            "text/html": [
              "<div>\n",
              "<style scoped>\n",
              "    .dataframe tbody tr th:only-of-type {\n",
              "        vertical-align: middle;\n",
              "    }\n",
              "\n",
              "    .dataframe tbody tr th {\n",
              "        vertical-align: top;\n",
              "    }\n",
              "\n",
              "    .dataframe thead th {\n",
              "        text-align: right;\n",
              "    }\n",
              "</style>\n",
              "<table border=\"1\" class=\"dataframe\">\n",
              "  <thead>\n",
              "    <tr style=\"text-align: right;\">\n",
              "      <th></th>\n",
              "      <th>Title</th>\n",
              "      <th>Vader_avg</th>\n",
              "    </tr>\n",
              "  </thead>\n",
              "  <tbody>\n",
              "    <tr>\n",
              "      <th>0</th>\n",
              "      <td>Avengers Age of Ultron</td>\n",
              "      <td>0.325920</td>\n",
              "    </tr>\n",
              "    <tr>\n",
              "      <th>1</th>\n",
              "      <td>AntMan and the Wasp</td>\n",
              "      <td>0.483780</td>\n",
              "    </tr>\n",
              "    <tr>\n",
              "      <th>2</th>\n",
              "      <td>Aquaman</td>\n",
              "      <td>0.323176</td>\n",
              "    </tr>\n",
              "    <tr>\n",
              "      <th>3</th>\n",
              "      <td>Avengers Endgame</td>\n",
              "      <td>0.464424</td>\n",
              "    </tr>\n",
              "    <tr>\n",
              "      <th>4</th>\n",
              "      <td>Avengers Infinity War</td>\n",
              "      <td>0.155448</td>\n",
              "    </tr>\n",
              "    <tr>\n",
              "      <th>5</th>\n",
              "      <td>Black Panther</td>\n",
              "      <td>0.441759</td>\n",
              "    </tr>\n",
              "    <tr>\n",
              "      <th>6</th>\n",
              "      <td>NaN</td>\n",
              "      <td>0.267807</td>\n",
              "    </tr>\n",
              "    <tr>\n",
              "      <th>7</th>\n",
              "      <td>NaN</td>\n",
              "      <td>0.090210</td>\n",
              "    </tr>\n",
              "    <tr>\n",
              "      <th>8</th>\n",
              "      <td>Doctor Strange</td>\n",
              "      <td>0.379982</td>\n",
              "    </tr>\n",
              "    <tr>\n",
              "      <th>9</th>\n",
              "      <td>Justice League</td>\n",
              "      <td>0.304520</td>\n",
              "    </tr>\n",
              "    <tr>\n",
              "      <th>10</th>\n",
              "      <td>SpiderMan Homecoming</td>\n",
              "      <td>0.470029</td>\n",
              "    </tr>\n",
              "    <tr>\n",
              "      <th>11</th>\n",
              "      <td>NaN</td>\n",
              "      <td>0.343998</td>\n",
              "    </tr>\n",
              "    <tr>\n",
              "      <th>12</th>\n",
              "      <td>NaN</td>\n",
              "      <td>0.271214</td>\n",
              "    </tr>\n",
              "    <tr>\n",
              "      <th>13</th>\n",
              "      <td>Thor Ragnarok</td>\n",
              "      <td>0.461304</td>\n",
              "    </tr>\n",
              "    <tr>\n",
              "      <th>14</th>\n",
              "      <td>Wonder Woman</td>\n",
              "      <td>0.460269</td>\n",
              "    </tr>\n",
              "  </tbody>\n",
              "</table>\n",
              "</div>"
            ],
            "text/plain": [
              "                     Title  Vader_avg\n",
              "0   Avengers Age of Ultron   0.325920\n",
              "1      AntMan and the Wasp   0.483780\n",
              "2                  Aquaman   0.323176\n",
              "3         Avengers Endgame   0.464424\n",
              "4    Avengers Infinity War   0.155448\n",
              "5            Black Panther   0.441759\n",
              "6                      NaN   0.267807\n",
              "7                      NaN   0.090210\n",
              "8           Doctor Strange   0.379982\n",
              "9           Justice League   0.304520\n",
              "10    SpiderMan Homecoming   0.470029\n",
              "11                     NaN   0.343998\n",
              "12                     NaN   0.271214\n",
              "13           Thor Ragnarok   0.461304\n",
              "14            Wonder Woman   0.460269"
            ]
          },
          "metadata": {
            "tags": []
          },
          "execution_count": 175
        }
      ]
    },
    {
      "cell_type": "code",
      "metadata": {
        "id": "X2sJbsbqnTWE",
        "colab_type": "code",
        "colab": {}
      },
      "source": [
        "data = VADER_data.merge(boxoffice, \n",
        "                        left_on='Title', \n",
        "                        right_on='Title', \n",
        "                        how='inner', \n",
        "                        suffixes=[\"\",\"_2\"] #since they are the same name, we need a suffix\n",
        "                       )"
      ],
      "execution_count": 0,
      "outputs": []
    },
    {
      "cell_type": "code",
      "metadata": {
        "id": "GNfCO0ugncuv",
        "colab_type": "code",
        "colab": {
          "base_uri": "https://localhost:8080/",
          "height": 390
        },
        "outputId": "ec3f1c12-d2b2-40f2-d71f-0f95b3506fba"
      },
      "source": [
        "data"
      ],
      "execution_count": 177,
      "outputs": [
        {
          "output_type": "execute_result",
          "data": {
            "text/html": [
              "<div>\n",
              "<style scoped>\n",
              "    .dataframe tbody tr th:only-of-type {\n",
              "        vertical-align: middle;\n",
              "    }\n",
              "\n",
              "    .dataframe tbody tr th {\n",
              "        vertical-align: top;\n",
              "    }\n",
              "\n",
              "    .dataframe thead th {\n",
              "        text-align: right;\n",
              "    }\n",
              "</style>\n",
              "<table border=\"1\" class=\"dataframe\">\n",
              "  <thead>\n",
              "    <tr style=\"text-align: right;\">\n",
              "      <th></th>\n",
              "      <th>Title</th>\n",
              "      <th>Vader_avg</th>\n",
              "      <th>Studio</th>\n",
              "      <th>Lifetime Gross</th>\n",
              "      <th>Opening</th>\n",
              "      <th>Date</th>\n",
              "    </tr>\n",
              "  </thead>\n",
              "  <tbody>\n",
              "    <tr>\n",
              "      <th>0</th>\n",
              "      <td>Avengers Age of Ultron</td>\n",
              "      <td>0.325920</td>\n",
              "      <td>BV</td>\n",
              "      <td>459005868</td>\n",
              "      <td>191271109.0</td>\n",
              "      <td>5/1/15</td>\n",
              "    </tr>\n",
              "    <tr>\n",
              "      <th>1</th>\n",
              "      <td>AntMan and the Wasp</td>\n",
              "      <td>0.483780</td>\n",
              "      <td>BV</td>\n",
              "      <td>216648740</td>\n",
              "      <td>75812205.0</td>\n",
              "      <td>7/6/18</td>\n",
              "    </tr>\n",
              "    <tr>\n",
              "      <th>2</th>\n",
              "      <td>Aquaman</td>\n",
              "      <td>0.323176</td>\n",
              "      <td>WB</td>\n",
              "      <td>335061807</td>\n",
              "      <td>67873522.0</td>\n",
              "      <td>12/21/18</td>\n",
              "    </tr>\n",
              "    <tr>\n",
              "      <th>3</th>\n",
              "      <td>Avengers Endgame</td>\n",
              "      <td>0.464424</td>\n",
              "      <td>BV</td>\n",
              "      <td>803631736</td>\n",
              "      <td>357115007.0</td>\n",
              "      <td>4/26/19</td>\n",
              "    </tr>\n",
              "    <tr>\n",
              "      <th>4</th>\n",
              "      <td>Avengers Infinity War</td>\n",
              "      <td>0.155448</td>\n",
              "      <td>BV</td>\n",
              "      <td>678815482</td>\n",
              "      <td>257698183.0</td>\n",
              "      <td>4/27/18</td>\n",
              "    </tr>\n",
              "    <tr>\n",
              "      <th>5</th>\n",
              "      <td>Black Panther</td>\n",
              "      <td>0.441759</td>\n",
              "      <td>BV</td>\n",
              "      <td>700059566</td>\n",
              "      <td>202003951.0</td>\n",
              "      <td>2/16/18</td>\n",
              "    </tr>\n",
              "    <tr>\n",
              "      <th>6</th>\n",
              "      <td>Doctor Strange</td>\n",
              "      <td>0.379982</td>\n",
              "      <td>BV</td>\n",
              "      <td>232641920</td>\n",
              "      <td>85058311.0</td>\n",
              "      <td>11/4/16</td>\n",
              "    </tr>\n",
              "    <tr>\n",
              "      <th>7</th>\n",
              "      <td>Justice League</td>\n",
              "      <td>0.304520</td>\n",
              "      <td>WB</td>\n",
              "      <td>229024295</td>\n",
              "      <td>93842239.0</td>\n",
              "      <td>11/17/17</td>\n",
              "    </tr>\n",
              "    <tr>\n",
              "      <th>8</th>\n",
              "      <td>SpiderMan Homecoming</td>\n",
              "      <td>0.470029</td>\n",
              "      <td>Sony</td>\n",
              "      <td>334201140</td>\n",
              "      <td>117027503.0</td>\n",
              "      <td>7/7/17</td>\n",
              "    </tr>\n",
              "    <tr>\n",
              "      <th>9</th>\n",
              "      <td>Thor Ragnarok</td>\n",
              "      <td>0.461304</td>\n",
              "      <td>BV</td>\n",
              "      <td>315058289</td>\n",
              "      <td>122744989.0</td>\n",
              "      <td>11/3/17</td>\n",
              "    </tr>\n",
              "    <tr>\n",
              "      <th>10</th>\n",
              "      <td>Wonder Woman</td>\n",
              "      <td>0.460269</td>\n",
              "      <td>WB</td>\n",
              "      <td>412563408</td>\n",
              "      <td>103251471.0</td>\n",
              "      <td>6/2/17</td>\n",
              "    </tr>\n",
              "  </tbody>\n",
              "</table>\n",
              "</div>"
            ],
            "text/plain": [
              "                     Title  Vader_avg  ...      Opening      Date\n",
              "0   Avengers Age of Ultron   0.325920  ...  191271109.0    5/1/15\n",
              "1      AntMan and the Wasp   0.483780  ...   75812205.0    7/6/18\n",
              "2                  Aquaman   0.323176  ...   67873522.0  12/21/18\n",
              "3         Avengers Endgame   0.464424  ...  357115007.0   4/26/19\n",
              "4    Avengers Infinity War   0.155448  ...  257698183.0   4/27/18\n",
              "5            Black Panther   0.441759  ...  202003951.0   2/16/18\n",
              "6           Doctor Strange   0.379982  ...   85058311.0   11/4/16\n",
              "7           Justice League   0.304520  ...   93842239.0  11/17/17\n",
              "8     SpiderMan Homecoming   0.470029  ...  117027503.0    7/7/17\n",
              "9            Thor Ragnarok   0.461304  ...  122744989.0   11/3/17\n",
              "10            Wonder Woman   0.460269  ...  103251471.0    6/2/17\n",
              "\n",
              "[11 rows x 6 columns]"
            ]
          },
          "metadata": {
            "tags": []
          },
          "execution_count": 177
        }
      ]
    },
    {
      "cell_type": "code",
      "metadata": {
        "id": "PItuYNGunitO",
        "colab_type": "code",
        "colab": {}
      },
      "source": [
        "data = data[['Title','Vader_avg','Studio','Lifetime Gross','Opening']]"
      ],
      "execution_count": 0,
      "outputs": []
    },
    {
      "cell_type": "code",
      "metadata": {
        "id": "5F6HX6Oyn9ei",
        "colab_type": "code",
        "colab": {
          "base_uri": "https://localhost:8080/",
          "height": 390
        },
        "outputId": "c43a9e9c-8af8-48d3-e8bc-e9484b272ff7"
      },
      "source": [
        "data"
      ],
      "execution_count": 179,
      "outputs": [
        {
          "output_type": "execute_result",
          "data": {
            "text/html": [
              "<div>\n",
              "<style scoped>\n",
              "    .dataframe tbody tr th:only-of-type {\n",
              "        vertical-align: middle;\n",
              "    }\n",
              "\n",
              "    .dataframe tbody tr th {\n",
              "        vertical-align: top;\n",
              "    }\n",
              "\n",
              "    .dataframe thead th {\n",
              "        text-align: right;\n",
              "    }\n",
              "</style>\n",
              "<table border=\"1\" class=\"dataframe\">\n",
              "  <thead>\n",
              "    <tr style=\"text-align: right;\">\n",
              "      <th></th>\n",
              "      <th>Title</th>\n",
              "      <th>Vader_avg</th>\n",
              "      <th>Studio</th>\n",
              "      <th>Lifetime Gross</th>\n",
              "      <th>Opening</th>\n",
              "    </tr>\n",
              "  </thead>\n",
              "  <tbody>\n",
              "    <tr>\n",
              "      <th>0</th>\n",
              "      <td>Avengers Age of Ultron</td>\n",
              "      <td>0.325920</td>\n",
              "      <td>BV</td>\n",
              "      <td>459005868</td>\n",
              "      <td>191271109.0</td>\n",
              "    </tr>\n",
              "    <tr>\n",
              "      <th>1</th>\n",
              "      <td>AntMan and the Wasp</td>\n",
              "      <td>0.483780</td>\n",
              "      <td>BV</td>\n",
              "      <td>216648740</td>\n",
              "      <td>75812205.0</td>\n",
              "    </tr>\n",
              "    <tr>\n",
              "      <th>2</th>\n",
              "      <td>Aquaman</td>\n",
              "      <td>0.323176</td>\n",
              "      <td>WB</td>\n",
              "      <td>335061807</td>\n",
              "      <td>67873522.0</td>\n",
              "    </tr>\n",
              "    <tr>\n",
              "      <th>3</th>\n",
              "      <td>Avengers Endgame</td>\n",
              "      <td>0.464424</td>\n",
              "      <td>BV</td>\n",
              "      <td>803631736</td>\n",
              "      <td>357115007.0</td>\n",
              "    </tr>\n",
              "    <tr>\n",
              "      <th>4</th>\n",
              "      <td>Avengers Infinity War</td>\n",
              "      <td>0.155448</td>\n",
              "      <td>BV</td>\n",
              "      <td>678815482</td>\n",
              "      <td>257698183.0</td>\n",
              "    </tr>\n",
              "    <tr>\n",
              "      <th>5</th>\n",
              "      <td>Black Panther</td>\n",
              "      <td>0.441759</td>\n",
              "      <td>BV</td>\n",
              "      <td>700059566</td>\n",
              "      <td>202003951.0</td>\n",
              "    </tr>\n",
              "    <tr>\n",
              "      <th>6</th>\n",
              "      <td>Doctor Strange</td>\n",
              "      <td>0.379982</td>\n",
              "      <td>BV</td>\n",
              "      <td>232641920</td>\n",
              "      <td>85058311.0</td>\n",
              "    </tr>\n",
              "    <tr>\n",
              "      <th>7</th>\n",
              "      <td>Justice League</td>\n",
              "      <td>0.304520</td>\n",
              "      <td>WB</td>\n",
              "      <td>229024295</td>\n",
              "      <td>93842239.0</td>\n",
              "    </tr>\n",
              "    <tr>\n",
              "      <th>8</th>\n",
              "      <td>SpiderMan Homecoming</td>\n",
              "      <td>0.470029</td>\n",
              "      <td>Sony</td>\n",
              "      <td>334201140</td>\n",
              "      <td>117027503.0</td>\n",
              "    </tr>\n",
              "    <tr>\n",
              "      <th>9</th>\n",
              "      <td>Thor Ragnarok</td>\n",
              "      <td>0.461304</td>\n",
              "      <td>BV</td>\n",
              "      <td>315058289</td>\n",
              "      <td>122744989.0</td>\n",
              "    </tr>\n",
              "    <tr>\n",
              "      <th>10</th>\n",
              "      <td>Wonder Woman</td>\n",
              "      <td>0.460269</td>\n",
              "      <td>WB</td>\n",
              "      <td>412563408</td>\n",
              "      <td>103251471.0</td>\n",
              "    </tr>\n",
              "  </tbody>\n",
              "</table>\n",
              "</div>"
            ],
            "text/plain": [
              "                     Title  Vader_avg Studio  Lifetime Gross      Opening\n",
              "0   Avengers Age of Ultron   0.325920     BV       459005868  191271109.0\n",
              "1      AntMan and the Wasp   0.483780     BV       216648740   75812205.0\n",
              "2                  Aquaman   0.323176     WB       335061807   67873522.0\n",
              "3         Avengers Endgame   0.464424     BV       803631736  357115007.0\n",
              "4    Avengers Infinity War   0.155448     BV       678815482  257698183.0\n",
              "5            Black Panther   0.441759     BV       700059566  202003951.0\n",
              "6           Doctor Strange   0.379982     BV       232641920   85058311.0\n",
              "7           Justice League   0.304520     WB       229024295   93842239.0\n",
              "8     SpiderMan Homecoming   0.470029   Sony       334201140  117027503.0\n",
              "9            Thor Ragnarok   0.461304     BV       315058289  122744989.0\n",
              "10            Wonder Woman   0.460269     WB       412563408  103251471.0"
            ]
          },
          "metadata": {
            "tags": []
          },
          "execution_count": 179
        }
      ]
    },
    {
      "cell_type": "code",
      "metadata": {
        "id": "-P1FTsivnyZ1",
        "colab_type": "code",
        "colab": {
          "base_uri": "https://localhost:8080/",
          "height": 287
        },
        "outputId": "9aafc0a0-0386-4504-9d18-35e7f2e920f2"
      },
      "source": [
        "# Calculate correlations\n",
        "corr = data.corr()\n",
        " \n",
        "# Heatmap\n",
        "sns.heatmap(corr)"
      ],
      "execution_count": 180,
      "outputs": [
        {
          "output_type": "execute_result",
          "data": {
            "text/plain": [
              "<matplotlib.axes._subplots.AxesSubplot at 0x7fc7582c2ac8>"
            ]
          },
          "metadata": {
            "tags": []
          },
          "execution_count": 180
        },
        {
          "output_type": "display_data",
          "data": {
            "image/png": "[encoded data removed]",
            "text/plain": [
              "<Figure size 432x288 with 2 Axes>"
            ]
          },
          "metadata": {
            "tags": []
          }
        }
      ]
    }
  ]
}