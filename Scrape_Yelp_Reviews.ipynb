{
  "nbformat": 4,
  "nbformat_minor": 0,
  "metadata": {
    "colab": {
      "name": "Scrape_Yelp_Reviews.ipynb",
      "version": "0.3.2",
      "provenance": [],
      "collapsed_sections": [],
      "include_colab_link": true
    },
    "kernelspec": {
      "name": "python3",
      "display_name": "Python 3"
    }
  },
  "cells": [
    {
      "cell_type": "markdown",
      "metadata": {
        "id": "view-in-github",
        "colab_type": "text"
      },
      "source": [
        "<a href=\"https://colab.research.google.com/github/ygeszvain/projects/blob/master/Scrape_Yelp_Reviews.ipynb\" target=\"_parent\"><img src=\"https://colab.research.google.com/assets/colab-badge.svg\" alt=\"Open In Colab\"/></a>"
      ]
    },
    {
      "cell_type": "code",
      "metadata": {
        "id": "Gek9jf-t2vSj",
        "colab_type": "code",
        "colab": {}
      },
      "source": [
        "# importing libraries\n",
        "from urllib.request import urlopen as url #importing urllib for url request\n",
        "from bs4 import BeautifulSoup\n",
        "import requests\n",
        "import urllib.request\n",
        "from urllib.request import urlopen\n",
        "import re\n",
        "import time\n",
        "\n",
        "import pandas as pd #Importing the PANDAS python library\n",
        "import numpy as np #importing Numpy\n",
        "%matplotlib inline"
      ],
      "execution_count": 0,
      "outputs": []
    },
    {
      "cell_type": "code",
      "metadata": {
        "id": "I38FxxF8XRcG",
        "colab_type": "code",
        "colab": {}
      },
      "source": [
        "CUISINES = ['artisan-ramen-milwaukee','red-light-ramen-milwaukee-5','kawa-ramen-and-sushi-milwaukee-2']\n",
        "\n",
        "for name in CUISINES:\n",
        "\n",
        "  date=[]\n",
        "  author=[]\n",
        "  rating=[]\n",
        "  review=[]\n",
        "  yelp=[]  \n",
        "  \n",
        "  for cp in np.arange(0,10):\n",
        "  \n",
        "    url = \"http://www.yelp.com/biz/\" + name + \"?start=\" + str(cp*20)\n",
        "    html = urlopen(url)\n",
        "    soup = BeautifulSoup(html, 'html.parser')\n",
        "    metas_author = soup.findAll(\"meta\",{\"itemprop\":\"author\"})\n",
        "    metas_ratingValue = soup.find_all(\"meta\",{\"itemprop\":\"ratingValue\"})\n",
        "    metas_date = soup.find_all(\"meta\",{\"itemprop\":\"datePublished\"})\n",
        "    \n",
        "    date.extend(i for i in [meta_date.attrs['content'] for meta_date in metas_date if 'itemprop' in meta_date.attrs])  \n",
        "    author.extend(i for i in [meta_author.attrs['content'] for meta_author in metas_author if 'itemprop' in meta_author.attrs])\n",
        "    rating.extend(i for i in [meta_ratingValue.attrs['content'] for meta_ratingValue in metas_ratingValue[1:21] if 'itemprop' in meta_ratingValue.attrs])\n",
        "    review.extend(i.text for i in soup.findAll(\"p\",{\"itemprop\":\"description\"}))\n",
        "    time.sleep(3)\n",
        "\n",
        "\n",
        "  date = pd.DataFrame(date)\n",
        "  author = pd.DataFrame(author)\n",
        "  rating = pd.DataFrame(rating)\n",
        "  review = pd.DataFrame(review)\n",
        "\n",
        "  yelp = pd.concat([date, author, rating, review], axis=1, ignore_index=True)\n",
        "  yelp.columns = ['date','author','rating','review']\n",
        "\n",
        "  export = yelp.to_csv(name + \".csv\")"
      ],
      "execution_count": 0,
      "outputs": []
    }
  ]
}