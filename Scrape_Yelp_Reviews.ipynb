{
  "nbformat": 4,
  "nbformat_minor": 0,
  "metadata": {
    "colab": {
      "name": "Scrape_Yelp_Reviews.ipynb",
      "version": "0.3.2",
      "provenance": [],
      "collapsed_sections": [],
      "include_colab_link": true
    },
    "kernelspec": {
      "display_name": "Python 3",
      "language": "python",
      "name": "python3"
    },
    "language_info": {
      "codemirror_mode": {
        "name": "ipython",
        "version": 3
      },
      "file_extension": ".py",
      "mimetype": "text/x-python",
      "name": "python",
      "nbconvert_exporter": "python",
      "pygments_lexer": "ipython3",
      "version": "3.7.3"
    }
  },
  "cells": [
    {
      "cell_type": "markdown",
      "metadata": {
        "id": "view-in-github",
        "colab_type": "text"
      },
      "source": [
        "<a href=\"https://colab.research.google.com/github/ygeszvain/projects/blob/master/Scrape_Yelp_Reviews.ipynb\" target=\"_parent\"><img src=\"https://colab.research.google.com/assets/colab-badge.svg\" alt=\"Open In Colab\"/></a>"
      ]
    },
    {
      "cell_type": "code",
      "metadata": {
        "colab_type": "code",
        "id": "Gek9jf-t2vSj",
        "colab": {}
      },
      "source": [
        "# importing libraries\n",
        "from urllib.request import urlopen as url #importing urllib for url request\n",
        "from bs4 import BeautifulSoup\n",
        "import requests\n",
        "import urllib.request\n",
        "from urllib.request import urlopen\n",
        "import re\n",
        "import time\n",
        "\n",
        "import pandas as pd #Importing the PANDAS python library\n",
        "import numpy as np #importing Numpy\n",
        "%matplotlib inline"
      ],
      "execution_count": 0,
      "outputs": []
    },
    {
      "cell_type": "code",
      "metadata": {
        "colab_type": "code",
        "id": "I38FxxF8XRcG",
        "colab": {}
      },
      "source": [
        "CUISINES = ['artisan-ramen-milwaukee']\n",
        "\n",
        "for name in CUISINES:\n",
        "\n",
        "  date=[]\n",
        "  author=[]\n",
        "  #rating=[]\n",
        "  review=[]\n",
        "  yelp=[]  \n",
        "  \n",
        "  for cp in np.arange(0,10):\n",
        "  \n",
        "    url = \"http://www.yelp.com/biz/\" + name + \"?start=\" + str(cp*20)\n",
        "    html = urlopen(url)\n",
        "    soup = BeautifulSoup(html, 'html.parser')\n",
        "    metas_author = soup.findAll(\"meta\",{\"itemprop\":\"author\"})\n",
        "    #metas_ratingValue = soup.find_all(\"meta\",{\"itemprop\":\"ratingValue\"})\n",
        "    metas_date = soup.find_all(\"meta\",{\"itemprop\":\"datePublished\"})\n",
        "    \n",
        "    date.extend(i for i in [meta_date.attrs['content'] for meta_date in metas_date if 'itemprop' in meta_date.attrs])  \n",
        "    author.extend(i for i in [meta_author.attrs['content'] for meta_author in metas_author if 'itemprop' in meta_author.attrs])\n",
        "    #rating.extend(i for i in [meta_ratingValue.attrs['content'] for meta_ratingValue in metas_ratingValue[1:21] if 'itemprop' in meta_ratingValue.attrs])\n",
        "    review.extend(i.text for i in soup.findAll(\"p\",{\"itemprop\":\"description\"}))\n",
        "    time.sleep(3)\n",
        "\n",
        "\n",
        "  date = pd.DataFrame(date)\n",
        "  author = pd.DataFrame(author)\n",
        "  #rating = pd.DataFrame(rating)\n",
        "  review = pd.DataFrame(review)\n",
        "\n",
        "  yelp = pd.concat([date, author,  review], axis=1, ignore_index=True)\n",
        "  yelp.columns = ['date','author','review']\n",
        "\n",
        "  export = yelp.to_csv(name + \".csv\")"
      ],
      "execution_count": 0,
      "outputs": []
    },
    {
      "cell_type": "code",
      "metadata": {
        "colab_type": "code",
        "id": "Pa3N6TWz9y4J",
        "colab": {}
      },
      "source": [
        "artisan_ramen_milwaukee = pd.read_csv('artisan-ramen-milwaukee.csv',index_col=0)\n",
        "chard_milwaukee_2 = pd.read_csv('chard-milwaukee-2.csv',index_col=0)\n",
        "easy_tyger_milwaukee = pd.read_csv('easy-tyger-milwaukee.csv',index_col=0)\n",
        "fusion_poke_milwaukee_2 = pd.read_csv('fusion-poke-milwaukee-2.csv',index_col=0)\n",
        "kanpai_milwaukee_2 = pd.read_csv('kanpai-milwaukee-2.csv',index_col=0)\n",
        "kawa_ramen_and_sushi_milwaukee_2 = pd.read_csv('kawa-ramen-and-sushi-milwaukee-2.csv',index_col=0)\n",
        "red_light_ramen_milwaukee_3 = pd.read_csv('red-light-ramen-milwaukee-3.csv',index_col=0)\n",
        "red_light_ramen_milwaukee_5 = pd.read_csv('red-light-ramen-milwaukee-5.csv',index_col=0)\n",
        "tangled_noodles_milwaukee = pd.read_csv('tangled-noodles-milwaukee.csv',index_col=0)\n"
      ],
      "execution_count": 0,
      "outputs": []
    },
    {
      "cell_type": "code",
      "metadata": {
        "colab_type": "code",
        "id": "7f4pfSJcu5Y4",
        "colab": {}
      },
      "source": [
        "artisan_ramen_milwaukee['name'] = 'artisan_ramen_milwaukee'\n",
        "chard_milwaukee_2['name'] = 'chard_milwaukee_2'\n",
        "easy_tyger_milwaukee['name'] = 'easy_tyger_milwaukee'\n",
        "fusion_poke_milwaukee_2['name'] = 'fusion_poke_milwaukee_2'\n",
        "kanpai_milwaukee_2['name'] = 'kanpai_milwaukee_2'\n",
        "kawa_ramen_and_sushi_milwaukee_2['name'] = 'kawa_ramen_and_sushi_milwaukee_2'\n",
        "red_light_ramen_milwaukee_3['name'] = 'red_light_ramen_milwaukee_3'\n",
        "red_light_ramen_milwaukee_5['name'] = 'red_light_ramen_milwaukee_5'\n",
        "tangled_noodles_milwaukee['name'] = 'tangled_noodles_milwaukee'"
      ],
      "execution_count": 0,
      "outputs": []
    }
  ]
}